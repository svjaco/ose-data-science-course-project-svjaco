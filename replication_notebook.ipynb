{
 "cells": [
  {
   "cell_type": "markdown",
   "id": "a1b270c3-b157-4257-a99f-c9e0e491190a",
   "metadata": {},
   "source": [
    "<center>OSE data science, Prof. Dr. Philipp Eisenhauer | Summer 2021, M.Sc. Economics, Bonn University | Sven Jacobs</center> \n",
    "\n",
    "***\n",
    "    \n",
    "# <center>Replication of Angrist and Lavy (1999)</center>"
   ]
  },
  {
   "cell_type": "markdown",
   "id": "80f764bf",
   "metadata": {},
   "source": [
    "This notebook replicates the core results of the paper\n",
    "> Angrist, J. and V. Lavy (1999). \"[Using Maimonides' rule to estimate the effect of class size on scholastic achievement](https://economics.mit.edu/files/8273)\". *The Quarterly Journal of Economics* 114 (2), pp. 533–575."
   ]
  },
  {
   "cell_type": "markdown",
   "id": "4834ab37",
   "metadata": {},
   "source": [
    "Introductory remarks:\n",
    "* To access the data provided by the authors, the outsourced $\\mathsf{R}$ code and further materials, please consult the [README](https://github.com/OpenSourceEconomics/ose-data-science-course-project-svjaco/blob/master/README.md) on GitHub.\n",
    "* All replicated tables and figures are named and labeled as they appear in the original paper. \n",
    "* Individual contributions that extend the paper are clearly indicated as such. In particular, figures and tables that constitute an independent contribution have the tag \"EXT\" in their name. For instance: \"Figure EXT_1\". Moreover, in Section [6](#Maimonides_rule_redux) we replicate relevant parts of a recent follow-up paper by the authors, \"Maimonides' rule redux\" (Angrist et al., [2019](#Angrist_2019)). For transparency these parts are tagged with \"MRR\", like in \"Figure MMR_1\".\n",
    "* For the replication of the regression estimation results we removed one observation in the sample of the 5th graders. The reason is that one class only took the reading test and thus has a missing value for the math score which caused problems with the programming for cluster correction. Instead of 2019 classes we use 2018 classes when estimations involve the average reading score. However, this has de facto no influence on the results. Estimated coefficients sometimes differ slightly at the third decimal place and standard errors are unchanged."
   ]
  },
  {
   "cell_type": "markdown",
   "id": "cea5aae3",
   "metadata": {},
   "source": [
    "Preparation:"
   ]
  },
  {
   "cell_type": "code",
   "execution_count": 2,
   "id": "68880b65",
   "metadata": {},
   "outputs": [],
   "source": [
    "# Load packages\n",
    "library(tidyverse) # Collection of packages for data science\n",
    "library(ggpubr)    # Customizing ggplots\n",
    "library(stargazer) # Well-formatted regression and summary statistics tables\n",
    "library(IRdisplay) # Front-end package for Jupyter (to display HTML code)\n",
    "library(testthat)  # Provides the capture_output function\n",
    "library(estimatr)  # Cluster-robust OLS and 2SLS estimation\n",
    "library(qpcR)      # Provides the RMSE function\n",
    "library(AER)       # Provides the ivreg function for 2SLS estimation (supported by stargazer)\n",
    "# library(rddensity) # Manipulation testing based on density discontinuity\n",
    "\n",
    "# Load data\n",
    "grade4 <- read_csv(\"data/final4_cleaned.csv\", col_types = cols())\n",
    "grade5 <- read_csv(\"data/final5_cleaned.csv\", col_types = cols())\n",
    "grade5_reg <- grade5[-1501, ] # Drop class with missing value for math test (see introductory remark above)\n",
    "\n",
    "# Import functions\n",
    "source(\"R_code/general_functions.R\")\n",
    "source(\"R_code/replication_tables.R\")\n",
    "source(\"R_code/replication_plots.R\")\n",
    "source(\"R_code/extension_plots.R\")"
   ]
  },
  {
   "cell_type": "markdown",
   "id": "9372d43a",
   "metadata": {},
   "source": [
    "<p style=\"padding: 10px; border: 1px solid black;\">\n",
    "<strong>Note:</strong>\n",
    "The package \"rddensity\" is currently not available on any conda channel. Hence, it is not installed in the conda environment. To run the code producing Figure <a href=\"#figure4_EXT\" class=\"link\">EXT_4</a>, the package has to be downloaded manually from CRAN. I am working on building the package with skeleton CRAN such that it can be downloaded with conda. \n",
    "</p>"
   ]
  },
  {
   "cell_type": "markdown",
   "id": "4a4d38e7-7d4c-45a5-8867-5fd390d7814d",
   "metadata": {},
   "source": [
    "## Contents"
   ]
  },
  {
   "cell_type": "markdown",
   "id": "55696b68-1806-49fa-acc6-8d5cc1d28edc",
   "metadata": {},
   "source": [
    "[1 Introduction](#Introduction) <br>\n",
    "[2 Data and descriptive statistics](#Data_and_descriptive_statistics) <br>\n",
    "$\\enspace$ [2.1 Data and key variables](#Data_and_key_variables) <br>\n",
    "$\\enspace$ [2.2 Descriptive statistics](#Descriptive_statistics) <br>\n",
    "[3 Identification](#Identification) <br>\n",
    "[4 Empirical strategy](#Empirical_strategy) <br>\n",
    "[5 Replication of core results](#Replication_of_core_results) <br>\n",
    "$\\enspace$ [5.1 Graphical analysis](#Graphical_analysis) <br>\n",
    "$\\enspace$ [5.2 Estimation results](#Estimation_results) <br>\n",
    "[6 Maimonides' rule redux](#Maimonides_rule_redux) <br>\n",
    "[7 Critical assessment and conclusion](#Critical_assessment_and_conclusion) <br>\n",
    "[Appendix](#Appendix) <br>\n",
    "[References](#References)"
   ]
  },
  {
   "cell_type": "markdown",
   "id": "91356ca1-05b2-46a1-8d07-ed9d3833b64d",
   "metadata": {},
   "source": [
    "<a id=\"Introduction\"></a>\n",
    "***\n",
    "## 1 Introduction\n",
    "***"
   ]
  },
  {
   "cell_type": "markdown",
   "id": "e276ddd0-95be-456d-a17c-a964c19c4ef3",
   "metadata": {},
   "source": [
    "Class size reduction (CSR) is very popular among teachers and parents alike.\n",
    "The conventional belief is that smaller classes benefit children because it gives more time for a teacher to devote to each student.\n",
    "Also there may be fewer disruptions during lessons and teachers can more easily engage students in academic activities (Hattie, [2005](#Hattie_2005)).\n",
    "However, reducing class sizes is highly expensive. \n",
    "Additional classrooms have to be provided, but more importantly the newly hired teachers increase the total educational expenditures substantially.\n",
    "The CSR program enacted in California in 1996 had annually costs exceeding one billion dollars, 25000 new teaching positions had to be created in the first two years (Jepsen and Rivkin, [2009](#Jepsen_2009), p. 224).\n",
    "These teachers then also have to be equally qualified.\n",
    "Otherwise potential gains of smaller classes might be offset, as revealed in the case of California by Jepsen and Rivkin ([2009](#Jepsen_2009)).\n",
    "\n",
    "In view of the high costs with limited funding resources at the same time, empirical evidence for the consequences of changing class size is needed.\n",
    "The class size question is one of the central research questions in economics of education with several studies published over the years.\n",
    "Since class size is in general not randomly assigned but endogenous (correlated with unobserved characteristics of students and schools), causal effects of class size on achievement have proved very difficult to identify.\n",
    "\n",
    "One approach to address the issue of endogeneity/selection bias is to run a randomized experiment where children are randomly assigned to classes of different sizes.\n",
    "The most prominent example is the Tennessee Student/Teacher Achievement Ratio (STAR) experiment from the late eighties, for which post-analyses have found substantial positive effects of CSR (see Krueger ([1999](#Krueger_1999)), and Chetty et al. ([2011](#Chetty_2011)) for an evaluation of long-term impacts).\n",
    "Researcher-designed randomized experiments of class size, however, are rare.\n",
    "As mentioned above they involve large costs and besides may face political and ethical barriers.\n",
    "Therefore, research relies on natural experiments that create some kind of variation in class sizes.\n",
    "Over time corresponding studies have reported mixed results.\n",
    "Some find positive effects as in the STAR experiment (e. g., Gary-Bobo and Mahjoub, [2013](#Gary-Bobo_2013)), some find either no association (e. g., Hoxby, [2000](#Hoxby_2000)) or even larger classes being beneficial (Dobbelsteen et al., [2002](#Dobbelsteen_2002)).\n",
    "\n",
    "In 1999 Angrist and Lavy published a seminal paper in which they estimate the effect of class size on scholastic achievement, measured by standardized math and reading tests, in Israeli elementary schools.\n",
    "The authors were the first to recognize that mandatory class size caps might serve as a source of exogenous variation in class size.\n",
    "In Israel classes are capped at 40 students according to the so-called Maimonides rule, named after the medieval rabbinic scholar Maimonides.\n",
    "This rule induces a nonlinear and nonmonotonic relationship between grade enrollment and class size.\n",
    "That is, class size increases one-by-one with enrollment up to 40, but when 41 students are enrolled there are supposed to be two classes of sizes 20 and 21.\n",
    "The same applies for each multiple of 40 (e. g., 81 pupils are split into three classes at size 27).\n",
    "Angrist and Lavy ([1999](#Angrist_1999)) exploit these discontinuities in the enrollment-class-size-relationship to create instrumental variables (IV) estimates in a fuzzy regression discontinuity design (RDD).\n",
    "The RDD is fuzzy since the schools do not follow Maimonides' rule strictly.\n",
    "The estimates suggest that CSR induces a significant increase in test scores with an effect size at the lower range of the strong STAR findings.\n",
    "\n",
    "In a recently published paper (\"Maimonides' rule redux\", [2019](#Angrist_2019)) Angrist et al. revisit the original results and redo the analysis for more recent data with a larger sample size.\n",
    "The newer estimates show no evidence of class size effects.\n",
    "Additionally, the data reveal enrollment manipulation.\n",
    "Both findings cast doubt on the earlier inference.\n",
    "\n",
    "The structure of the notebook is as follows.\n",
    "The next section describes the Israeli test score data and its key variables.\n",
    "In Section [3](#Identification) we illustrate the authors' strategy to identify the causal effect of class size using the causal graph approach.\n",
    "Then, the empirical strategy is presented.\n",
    "In Section [5](#Replication_of_core_results) we replicate selected core results of the paper and examine their robustness in Section [6](#Maimonides_rule_redux).\n",
    "Finally, we critically assess the quality of Angrist and Lavy ([1999](#Angrist_1999)) and conclude in Section [7](#Critical_assessment_and_conclusion)."
   ]
  },
  {
   "cell_type": "markdown",
   "id": "26262bd9-0904-4fa8-b092-f68e423118c7",
   "metadata": {},
   "source": [
    "<a id=\"Data_and_descriptive_statistics\"></a>\n",
    "***\n",
    "## 2 Data and descriptive statistics\n",
    "***"
   ]
  },
  {
   "cell_type": "markdown",
   "id": "67761c63-9cc5-49f6-a4ac-bb79db36f440",
   "metadata": {},
   "source": [
    "<a id=\"Data_and_key_variables\"></a>\n",
    "### 2.1 Data and key variables "
   ]
  },
  {
   "cell_type": "markdown",
   "id": "88486ab4",
   "metadata": {},
   "source": [
    "The original data used by Angrist and Lavy ([1999](#Angrist_1999)) contain information on Israeli classes in the third, fourth and fifth grade (about 2000 classes per grade).\n",
    "Micro data were only available for third graders.\n",
    "The main variables and their definition are presented in the following table."
   ]
  },
  {
   "cell_type": "markdown",
   "id": "ca95f27c",
   "metadata": {},
   "source": [
    "| Variable   |                        | Definition                                                         |\n",
    "|:-----------|:-----------------------|:-------------------------------------------------------------------|\n",
    "| classsize  | Class size             | Number of students in class in the spring                          |\n",
    "| enrollment | Enrollment             | September grade enrollment                                         |\n",
    "| pct_disadv | Percent disadvantaged  | Percent of students in the school from \"disadvantaged backgrounds\" |\n",
    "| avgread    | Average reading/verbal | Average composite reading score in the class                       |\n",
    "| avgmath    | Average math           | Average composite math score in the class                          |\n",
    "| readsize   | Reading size           | Number of students who took the reading test                       |\n",
    "| mathsize   | Math size              | Number of students who took the math test                          |"
   ]
  },
  {
   "cell_type": "markdown",
   "id": "3f6716e9",
   "metadata": {},
   "source": [
    "The test scores come from a national testing program conducted between 1991 and 1992.\n",
    "In June 1991, all fourth and fifth graders were given standardized tests to evaluate mathematics and (Hebrew) reading skills.\n",
    "The scores are calculated as a composite (selected basic and all advanced questions) with a scale from 1 to 100.\n",
    "Similar tests were taken by third graders in 1992.\n",
    "The data sets contain a PD (percent disadvantaged) index for each school.\n",
    "It is the average of the students' socioeconomic status which is measured based on pupils' fathers' education and continent of birth, and family size.\n",
    "Schools with more disadvantaged students receive more funding per student.\n",
    "\n",
    "Angrist and Lavy ([1999](#Angrist_1999)) restrict their study to students in Jewish public schools (including both secular and religious school types).\n",
    "This excludes Arab schools (no PD index available) and independent religious schools (curriculum differs considerably).\n",
    "\n",
    "The final data link information from different sources.\n",
    "Except for grade enrollment all information is from an administrative source (mainly the Ministry of Education).\n",
    "Enrollment at the beginning of the school year in September, however, is reported by school officials to the Central Bureau of Statistics.\n",
    "This knowledge is crucial for a later investigation of manipulative behavior.\n",
    "Further details are provided in the Data Appendix of Angrist and Lavy ([1999](#Angrist_1999)).\n",
    "\n",
    "Most of the analysis excludes the third graders.\n",
    "Also, the corresponding data set is not provided by the authors.\n",
    "We explain the reason for this in Appendix [1](#Appendix_1).\n",
    "Briefly, scores for the third grade are much higher and there exists strong evidence for a compromise of the test program."
   ]
  },
  {
   "cell_type": "markdown",
   "id": "a3ea4f82-e638-471a-bab5-6046d3b02727",
   "metadata": {},
   "source": [
    "<a id=\"Descriptive_statistics\"></a>\n",
    "### 2.2 Descriptive statistics"
   ]
  },
  {
   "cell_type": "markdown",
   "id": "72c46d52",
   "metadata": {},
   "source": [
    "As reported in Panel A of Table [I](#table1) the sample consists of 2019 5th grade and 2049 4th grade classes in approximately 1000 schools.\n",
    "The average class size is about 30 with about 78 pupils being enrolled.\n",
    "Ten percent of classes have more than 37 pupils.\n",
    "On average 14% of the students are from a disadvantaged background as defined by the PD index, but the variation is strong.\n",
    "For both grades measured average math scores are lower with a stronger dispersion.\n",
    "Overall, the mean score distributions are similar, which is also visible in Figure [EXT_1](#figure1_EXT).\n",
    "\n",
    "Panel B shows the same statistics, but for a specific subsample of the original data.\n",
    "Only schools with enrollment close to the discontinuities (40, 80, 120) are considered.\n",
    "Less than one quarter falls into this +/- 5 discontinuity sample, with a class size that is a bit larger.\n",
    "Otherwise, it does not appear that these schools are in some way special (almost no difference in the score distribution)."
   ]
  },
  {
   "cell_type": "markdown",
   "id": "a856b815",
   "metadata": {},
   "source": [
    "<a id=\"table1\"></a>\n",
    "<center>TABLE I <br> Unweighted Descriptive Statistics</center>"
   ]
  },
  {
   "cell_type": "markdown",
   "id": "7442448a",
   "metadata": {},
   "source": [
    "A. Full sample"
   ]
  },
  {
   "cell_type": "code",
   "execution_count": 3,
   "id": "9d981b96",
   "metadata": {},
   "outputs": [
    {
     "data": {
      "text/html": [
       "\n",
       "<table style=\"text-align:center\"><caption><strong>5th grade: 2019 classes, 1002 schools, tested in 1991</strong></caption>\n",
       "<tr><td colspan=\"8\" style=\"border-bottom: 1px solid black\"></td></tr><tr><td style=\"text-align:left\">Variable</td><td>Mean</td><td>S.D.</td><td>0.10</td><td>0.25</td><td>0.50</td><td>0.75</td><td>0.90</td></tr>\n",
       "<tr><td colspan=\"8\" style=\"border-bottom: 1px solid black\"></td></tr><tr><td style=\"text-align:left\">Class Size</td><td>29.9</td><td>6.5</td><td>21</td><td>26</td><td>31</td><td>35</td><td>38</td></tr>\n",
       "<tr><td style=\"text-align:left\">Enrollment</td><td>77.7</td><td>38.8</td><td>31</td><td>50</td><td>72</td><td>100</td><td>128</td></tr>\n",
       "<tr><td style=\"text-align:left\">Percent disadvantaged</td><td>14.1</td><td>13.5</td><td>2</td><td>4</td><td>10</td><td>19.5</td><td>35</td></tr>\n",
       "<tr><td style=\"text-align:left\">Reading size</td><td>27.3</td><td>6.6</td><td>19</td><td>23</td><td>28</td><td>32</td><td>36</td></tr>\n",
       "<tr><td style=\"text-align:left\">Math size</td><td>27.7</td><td>6.6</td><td>19</td><td>23</td><td>28</td><td>33</td><td>36</td></tr>\n",
       "<tr><td style=\"text-align:left\">Average verbal</td><td>74.4</td><td>7.7</td><td>64.2</td><td>69.9</td><td>75.4</td><td>79.8</td><td>83.3</td></tr>\n",
       "<tr><td style=\"text-align:left\">Average math</td><td>67.3</td><td>9.6</td><td>54.9</td><td>61.1</td><td>67.8</td><td>74.1</td><td>79.4</td></tr>\n",
       "<tr><td colspan=\"8\" style=\"border-bottom: 1px solid black\"></td></tr></table>"
      ]
     },
     "metadata": {},
     "output_type": "display_data"
    },
    {
     "data": {
      "text/html": [
       "\n",
       "<table style=\"text-align:center\"><caption><strong>4th grade: 2049 classes, 1013 schools, tested in 1991</strong></caption>\n",
       "<tr><td colspan=\"8\" style=\"border-bottom: 1px solid black\"></td></tr><tr><td style=\"text-align:left\">Variable</td><td>Mean</td><td>S.D.</td><td>0.10</td><td>0.25</td><td>0.50</td><td>0.75</td><td>0.90</td></tr>\n",
       "<tr><td colspan=\"8\" style=\"border-bottom: 1px solid black\"></td></tr><tr><td style=\"text-align:left\">Class Size</td><td>30.3</td><td>6.3</td><td>22</td><td>26</td><td>31</td><td>35</td><td>38</td></tr>\n",
       "<tr><td style=\"text-align:left\">Enrollment</td><td>78.3</td><td>37.7</td><td>30.8</td><td>51</td><td>74</td><td>101</td><td>127</td></tr>\n",
       "<tr><td style=\"text-align:left\">Percent disadvantaged</td><td>13.8</td><td>13.4</td><td>2</td><td>4</td><td>9</td><td>19</td><td>35</td></tr>\n",
       "<tr><td style=\"text-align:left\">Reading size</td><td>27.7</td><td>6.5</td><td>19</td><td>24</td><td>28</td><td>32</td><td>36</td></tr>\n",
       "<tr><td style=\"text-align:left\">Math size</td><td>28.1</td><td>6.5</td><td>19</td><td>24</td><td>29</td><td>33</td><td>36</td></tr>\n",
       "<tr><td style=\"text-align:left\">Average verbal</td><td>72.5</td><td>8.0</td><td>62.2</td><td>67.7</td><td>73.3</td><td>78.2</td><td>82</td></tr>\n",
       "<tr><td style=\"text-align:left\">Average math</td><td>68.9</td><td>8.8</td><td>57.5</td><td>63.6</td><td>69.3</td><td>75.0</td><td>79.4</td></tr>\n",
       "<tr><td colspan=\"8\" style=\"border-bottom: 1px solid black\"></td></tr></table>"
      ]
     },
     "metadata": {},
     "output_type": "display_data"
    }
   ],
   "source": [
    "table1(data = grade5)\n",
    "table1(data = grade4)"
   ]
  },
  {
   "cell_type": "markdown",
   "id": "312c30b3",
   "metadata": {},
   "source": [
    "B. +/- 5 Discontinuity sample (enrollment 36–45, 76–85, 116–125), **Extended**"
   ]
  },
  {
   "cell_type": "code",
   "execution_count": 4,
   "id": "03d60f21",
   "metadata": {},
   "outputs": [
    {
     "data": {
      "text/html": [
       "\n",
       "<table style=\"text-align:center\"><caption><strong>5th grade: 471 classes, 224 schools, tested in 1991</strong></caption>\n",
       "<tr><td colspan=\"8\" style=\"border-bottom: 1px solid black\"></td></tr><tr><td style=\"text-align:left\">Variable</td><td>Mean</td><td>S.D.</td><td>0.10</td><td>0.25</td><td>0.50</td><td>0.75</td><td>0.90</td></tr>\n",
       "<tr><td colspan=\"8\" style=\"border-bottom: 1px solid black\"></td></tr><tr><td style=\"text-align:left\">Class Size</td><td>30.8</td><td>7.4</td><td>21</td><td>24</td><td>31</td><td>38</td><td>40</td></tr>\n",
       "<tr><td style=\"text-align:left\">Enrollment</td><td>76.4</td><td>29.5</td><td>41</td><td>43</td><td>79</td><td>85</td><td>120</td></tr>\n",
       "<tr><td style=\"text-align:left\">Percent disadvantaged</td><td>13.6</td><td>13.2</td><td>2</td><td>4</td><td>10</td><td>17</td><td>36</td></tr>\n",
       "<tr><td style=\"text-align:left\">Reading size</td><td>28.1</td><td>7.3</td><td>18</td><td>22</td><td>28</td><td>35</td><td>38</td></tr>\n",
       "<tr><td style=\"text-align:left\">Math size</td><td>28.5</td><td>7.4</td><td>18</td><td>22</td><td>28</td><td>35</td><td>38</td></tr>\n",
       "<tr><td style=\"text-align:left\">Average verbal</td><td>74.5</td><td>8.2</td><td>63.8</td><td>69.7</td><td>75.6</td><td>80.5</td><td>83.6</td></tr>\n",
       "<tr><td style=\"text-align:left\">Average math</td><td>67.0</td><td>10.2</td><td>54.6</td><td>60.9</td><td>67.4</td><td>73.7</td><td>80.0</td></tr>\n",
       "<tr><td colspan=\"8\" style=\"border-bottom: 1px solid black\"></td></tr></table>"
      ]
     },
     "metadata": {},
     "output_type": "display_data"
    },
    {
     "data": {
      "text/html": [
       "\n",
       "<table style=\"text-align:center\"><caption><strong>4th grade: 415 classes, 195 schools, tested in 1991</strong></caption>\n",
       "<tr><td colspan=\"8\" style=\"border-bottom: 1px solid black\"></td></tr><tr><td style=\"text-align:left\">Variable</td><td>Mean</td><td>S.D.</td><td>0.10</td><td>0.25</td><td>0.50</td><td>0.75</td><td>0.90</td></tr>\n",
       "<tr><td colspan=\"8\" style=\"border-bottom: 1px solid black\"></td></tr><tr><td style=\"text-align:left\">Class Size</td><td>31.1</td><td>7.2</td><td>21</td><td>25</td><td>32</td><td>38</td><td>40</td></tr>\n",
       "<tr><td style=\"text-align:left\">Enrollment</td><td>78.5</td><td>30.0</td><td>41</td><td>43</td><td>80</td><td>116</td><td>120</td></tr>\n",
       "<tr><td style=\"text-align:left\">Percent disadvantaged</td><td>12.9</td><td>12.3</td><td>1</td><td>4</td><td>9</td><td>17.5</td><td>32</td></tr>\n",
       "<tr><td style=\"text-align:left\">Reading size</td><td>28.3</td><td>7.7</td><td>18</td><td>22</td><td>28</td><td>35</td><td>38</td></tr>\n",
       "<tr><td style=\"text-align:left\">Math size</td><td>28.7</td><td>7.7</td><td>18</td><td>23</td><td>29</td><td>35</td><td>38</td></tr>\n",
       "<tr><td style=\"text-align:left\">Average verbal</td><td>72.5</td><td>7.8</td><td>62.0</td><td>67</td><td>73.3</td><td>78.3</td><td>81.7</td></tr>\n",
       "<tr><td style=\"text-align:left\">Average math</td><td>68.7</td><td>9.1</td><td>56.9</td><td>62.7</td><td>69.3</td><td>75.4</td><td>79.7</td></tr>\n",
       "<tr><td colspan=\"8\" style=\"border-bottom: 1px solid black\"></td></tr></table>"
      ]
     },
     "metadata": {},
     "output_type": "display_data"
    }
   ],
   "source": [
    "table1(data = grade5_sub_sample_5)\n",
    "table1(data = grade4_sub_sample_5)"
   ]
  },
  {
   "cell_type": "code",
   "execution_count": 5,
   "id": "ca627594",
   "metadata": {},
   "outputs": [],
   "source": [
    "# figure1_EXT()"
   ]
  },
  {
   "cell_type": "markdown",
   "id": "3f205973",
   "metadata": {},
   "source": [
    "<figure>\n",
    "<center>\n",
    "    <img src=\"materials/figures/figure1_EXT.png\" width=\"600\" />\n",
    "    <figcaption>FIGURE EXT_1 <br>\n",
    "        Average Test Scores in Math and Reading Compared between 4th and 5th Graders\n",
    "    </figcaption>\n",
    "<a id=\"figure1_EXT\"></a>"
   ]
  },
  {
   "cell_type": "markdown",
   "id": "05a031b1-0767-4378-a686-11dbf492da18",
   "metadata": {},
   "source": [
    "<a id=\"Identification\"></a>\n",
    "***\n",
    "## 3 Identification\n",
    "***"
   ]
  },
  {
   "cell_type": "markdown",
   "id": "1c0e09cf",
   "metadata": {},
   "source": [
    "Even though the question \"What is the effect of class size on student performance?\" at a first glance may appears simple to answer, past research has shown that capturing the net (causal) effect comes along with different issues of identification.\n",
    "\n",
    "The fundamental problem is that class size (the treatment) is not randomly assigned.\n",
    "Thus, classes of different sizes can be expected to differ considerably in their composition and a naïve comparison of achievement would not be valid for inference due to the selection bias.\n",
    "The selection bias is likely to happen in two ways:\n",
    "On the one hand, certain parents (e. g., more educated, ambitious and/or wealthier) may actively seek to place their children in schools offering smaller classes.\n",
    "On the other hand, principals tend to group the least able students into smaller classes (Cohen-Zada et al., [2013](#Cohen-Zada_2013)).\n",
    "In the first case we would observe spurious positive effects of smaller classes, in the latter spurious lower achievement.\n",
    "To credibly account for the selection bias, exogenous variation in class size is needed, i. e., variation that is beyond the control of any involved stakeholder (students, teachers and school administrators).\n",
    "Angrist and Lavy ([1999](#Angrist_1999)) rely on the Maimonides rule as the source of variation.\n",
    "\n",
    "Figure [EXT_2a](#figure2_EXTa) summarizes the underlying identification strategy in the form of a causal graph.\n",
    "We can see that the effect of interest, class size on test score (the outcome), is confounded by two observables, total grade enrollment and socioeconomic status (measured as the share of disadvantaged students at school).\n",
    "The linkage between socioeconomic status and academic performance is well known in the literature (e. g., Saifi and Mehmood, [2011](#Saifi_2011)).\n",
    "Enrollment correlates with the outcome independently of its effect on class size as larger schools in Israel are more likely to be located in relatively prosperous urban centers with a better intake of students (Angrist and Lavy, [1999](#Angrist_1999), p. 544).\n",
    "Besides, the relationship between class size and achievement is due to further confounding factors, which are unobservable (e. g., innate ability or parental preferences for child education).\n",
    "Because conditioning allows to determine causal effects only in the presence of observed confounding, the backdoor criterion is not satisfied (open path: Class size $\\leftarrow$ Unobservables $\\rightarrow$ Test score) and the causal effect is not identifiable.\n",
    "\n",
    "However, if Maimonides' rule constitutes a valid IV as argued by the authors, we can nevertheless identify the effect in the given setting. Note that, as apparent in Figure [EXT_2a](#figure2_EXTa), the instrument is conditional on enrollment.\n",
    "A valid IV has to fulfill two assumptions (see, e. g., Angrist and Pischke, [2009](#Angrist_2009), Chapter 4.1): Relevance and the exclusion restriction.\n",
    "\n",
    "$\\enspace$ (i) Relevance: Maimonides' rule is correlated with class size, Corr( Maimonides' rule, Class size | Enrollment ) $\\neq$ 0 \n",
    "\n",
    "From the nature of the rule it is intuitive that actual class size is determined to some degree by the instrument.\n",
    "We will see later, graphically as well as quantitatively, that Maimonides' rule indeed creates a strong first stage.\n",
    "\n",
    "$\\enspace$ (ii) Exclusion restriction: Maimonides' rule affects the score only through class size, in particular, Corr( Maimonides' rule, Unobservables | Enrollment ) $=$ 0\n",
    "\n",
    "The exclusion restriction cannot be tested with the data (e. g., Morgan and Winship, [2014](#Morgan_2014), Chapter 9).\n",
    "Therefore, it has to be argued verbally that Maimonides' rule does not cause achievement through another channel.\n",
    "Figure [EXT_2b](#figure2_EXTb) demonstrates a scenario where the instrument is correlated with unobservables.\n",
    "This can happen if enrollment (the running variable in the RDD) is manipulated and children are successfully placed in grade enrollments just above the cutoff.\n",
    "As a consequence, the former identification strategy would break down. \n",
    "Angrist and Lavy ([1999](#Angrist_1999)) argue that in practice there is no way for parents to predict enrollment by the time school starts when registering their child in school (p. 550).\n",
    "And even if, Israeli pupils must attend a school in their local registration area that typically includes only one religious and one secular school (p. 542).\n",
    "Still, it remains an untestable identifying assumption.\n",
    "We will investigate potential indication for a violation of the assumption in Section [6](#Maimonides_rule_redux). \n",
    "\n",
    "In summary, Angrist and Lavy ([1999](#Angrist_1999)) present a credible identification strategy to determine the causal effect of CSR."
   ]
  },
  {
   "cell_type": "markdown",
   "id": "d4101c51",
   "metadata": {},
   "source": [
    "<figure>\n",
    "<center>\n",
    "    <img src=\"causal_graph/causal_graph.png\" width=\"700\" />\n",
    "    <figcaption>FIGURE EXT_2a <br>\n",
    "        Causal Graph Illustrating the Identification Strategy in Angrist and Lavy (<a href=\"#Angrist_1999\"                             class=\"link\">1999</a>)\n",
    "    </figcaption>\n",
    "<a id=\"figure2_EXTa\"></a>"
   ]
  },
  {
   "cell_type": "markdown",
   "id": "2b6f1c71",
   "metadata": {},
   "source": [
    "<figure>\n",
    "<center>\n",
    "    <img src=\"causal_graph/causal_graph_alternative.png\" width=\"700\" />\n",
    "    <figcaption>FIGURE EXT_2b <br>\n",
    "        Alternative Causal Graph\n",
    "    </figcaption>\n",
    "<a id=\"figure2_EXTb\"></a>"
   ]
  },
  {
   "cell_type": "markdown",
   "id": "a2c3099f-5ae1-4a27-b357-ea1e6132fc51",
   "metadata": {},
   "source": [
    "<a id=\"Empirical_strategy\"></a>\n",
    "***\n",
    "## 4 Empirical strategy\n",
    "***"
   ]
  },
  {
   "cell_type": "markdown",
   "id": "96cd26e5",
   "metadata": {},
   "source": [
    "Although the available data for the fourth and fifth graders are at class-level, a model for individual test scores is used as a starting point to describe the causal relationships to be estimated:\n",
    "\n",
    "<a id=\"eq_1\"></a>\n",
    "\\begin{align}\n",
    "    y_{isc} = X^\\top_s \\beta + \\alpha n_{sc} + \\mu_c + \\eta_s + \\epsilon_{isc} \\, , \\tag{1}\n",
    "\\end{align}\n",
    "\n",
    "where $y_{isc}$ is the score (math or reading) for student $i$ in class $c$ and school $s$.\n",
    "The vector $X_s$ consists of school characteristics (including functions of enrollment and most often the PD index), $n_{sc}$ is the class size and $\\mu_c$, $\\eta_s$ and $\\epsilon_{isc}$ are random error components.\n",
    "The i.i.d. errors $\\mu_c$ and $\\eta_s$ reflect possible within-class and within-school correlations of test scores, respectively.\n",
    "Lastly, the remaining error component $\\epsilon_{isc}$ is pupil-specific.\n",
    "The coefficient of interest is $\\alpha$.\n",
    "\n",
    "Angrist and Lavy ([1999](#Angrist_1999)) interpret Equation [(1)](#eq_1) as a description of the average potential outcomes of students under alternative assignments of $n_{sc}$ (class size), controlling for any effects of $X_s$ (school characteristics).\n",
    "However, in practice only one potential outcome is always observed (\"fundamental problem of causal inference\").\n",
    "Equation [(1)](#eq_1) assumes a linear causal response function with a constant class size coefficient.\n",
    "Such a response function, i. e., linear and homogeneous, is highly restrictive and almost certainly not an accurate description of the true (complex) structure.\n",
    "Angrist and Lavy ([1999](#Angrist_1999)) discuss this in Section V.\n",
    "\n",
    "Since the micro data are not available, Equation [(1)](#eq_1) needs to be aggregated:\n",
    "\n",
    "<a id=\"eq_2\"></a>\n",
    "\\begin{align}\n",
    "    \\bar{y}_{sc} = X^\\top_s \\beta + \\alpha n_{sc} + \\eta_s + [ \\mu_c + \\bar{\\epsilon}_{sc} ] \\, . \\tag{2}\n",
    "\\end{align}\n",
    "\n",
    "The outcome $\\bar{y}_{sc}$ is now the average test score of class $c$ in school $s$ with $[ \\mu_c + \\bar{\\epsilon}_{sc} ]$ as the class-level error term.\n",
    "Equation [(2)](#eq_2) is then used for OLS estimates and as the second stage for the IV estimation.\n",
    "Regarding the error components, there are two aspects.\n",
    "First, due to the random-effects error structure weighted least squares with class sizes as weights does not yield the efficient generalized least squares (GLS) estimator. Thus, Angrist and Lavy ([1999](#Angrist_1999)) treat the grouped errors as homoskedastic and report conventional/unweighted estimates.\n",
    "Second, to adjust the standard errors for clustering (correlation between classes within schools) the authors rely on the Moulton factor (Moulton, [1986](#Moulton_1986)).\n",
    "Rather than reporting these standard errors, in our replication we make use of a more modern and efficient cluster adjustment approach (for the exact formula consult the $\\mathsf{R}$ code and the [mathematical appendix](https://declaredesign.org/r/estimatr/articles/mathematical-notes.html) of the \"estimatr\" package).\n",
    "The resulting standard errors are in general slightly larger than the Moulton ones.\n",
    "\n",
    "As afore-mentioned, Maimonides' rule creates a fuzzy regression discontinuity design with discontinuities at enrollment integer multiples of 40.\n",
    "This leads to a Two Stage Least Squares (2SLS) estimation strategy where IV estimates of Equation [(2)](#eq_2) exploit the sharp drops in Maimonides' rule.\n",
    "To identify the causal effect of class size any other effects of enrollment (the running variable) on test scores have to be controlled for.\n",
    "This is why Angrist and Lavy ([1999](#Angrist_1999)) include different smooth functions of enrollment in the estimation procedure (linear, quadratic and piecewise linear).\n",
    "The first stage of [(2)](#eq_2) is given by \n",
    "\n",
    "<a id=\"eq_3\"></a>\n",
    "\\begin{align}\n",
    "    n_{sc} = X^\\top_s \\pi_0 + \\pi_1 \\text{f}_{sc} + \\xi_{sc} \\tag{3}\n",
    "\\end{align}\n",
    "\n",
    "with $\\pi_0$ and $\\pi_1$ being parameters and $\\xi_{sc}$ as the regression error term.\n",
    "The instrument $\\text{f}_{sc}$ is the class size function (or predicted class size) induced by Maimonides' rule.\n",
    "The function can be stated formally as\n",
    "\n",
    "\\begin{align*}\n",
    "    \\text{f}_{sc} = \\frac{e_s}{\\text{int} \\left( \\frac{e_s - 1}{40} \\right) + 1}\n",
    "\\end{align*}\n",
    "\n",
    "with $e_s$ as the beginning-of-the-year enrollment in school $s$ in a given grade.\n",
    "The function is depicted in Figure [I](#figure1) below.\n",
    "\n",
    "Since the source of identifying information are the discontinuities, Angrist and Lavy ([1999](#Angrist_1999)) create a +/- 5 discontinuity sample (schools with enrollment in [36, 45], [76, 85] or [116, 125]) and conduct some estimations for this specific subsample.\n",
    "As part of our own contributions we narrow the full sample further to a +/- 3 subsample."
   ]
  },
  {
   "cell_type": "markdown",
   "id": "7e7475bc",
   "metadata": {},
   "source": [
    "<a id=\"Replication_of_core_results\"></a>\n",
    "***\n",
    "## 5 Replication of core results\n",
    "***"
   ]
  },
  {
   "cell_type": "markdown",
   "id": "936aad39",
   "metadata": {},
   "source": [
    "<a id=\"Graphical_analysis\"></a>\n",
    "### 5.1 Graphical analysis "
   ]
  },
  {
   "cell_type": "markdown",
   "id": "1d4f71f7",
   "metadata": {},
   "source": [
    "The graphical analysis begins with a plot of class size by enrollment.\n",
    "Figure [I](#figure1) shows class size as predicted by Maimonides' rule and as observed during the school year for fifth (Panel a) and fourth (Panel b) graders.\n",
    "Overall, actual average class size follows the class size function.\n",
    "That is, class size increases approximately linearly with enrollment until integer multiples of 40 and drops then sharply.\n",
    "The link is worse for enrollment levels above 160 though.\n",
    "It is also clearly visible that average class size is generally smaller than predicted by a strict compliance to the rule since\n",
    "some schools open additional classes earlier.\n",
    "For example, schools with a high PD index receive extra funding from the Ministry of Education which can be used to set up a new class (Angrist and Lavy, [1999](#Angrist_1999), p. 542).\n",
    "Even though Maimonides' rule is not the only source of variation in class size, the figure provides evidence for a strong first stage."
   ]
  },
  {
   "cell_type": "code",
   "execution_count": 6,
   "id": "8db0d458",
   "metadata": {},
   "outputs": [],
   "source": [
    "# figure1()"
   ]
  },
  {
   "cell_type": "markdown",
   "id": "6106ae93",
   "metadata": {},
   "source": [
    "<figure>\n",
    "<center>\n",
    "    <img src=\"materials/figures/figure1.png\" width=\"800\" />\n",
    "    <figcaption>FIGURE I <br>\n",
    "        Class Size in 1991 by Initial Enrollment Count, Actual Average Size and as Predicted by Maimonides' Rule\n",
    "    </figcaption>\n",
    "<a id=\"figure1\"></a>"
   ]
  },
  {
   "cell_type": "markdown",
   "id": "242ad15b",
   "metadata": {},
   "source": [
    "<div class=\"alert alert-info\">\n",
    "<strong>Remark:</strong>\n",
    "In the original Figure I (Angrist and Lavy, <a href=\"#Angrist_1999\" class=\"link\">1999</a>, p. 541), the function induced by Maimonides' rule is depicted incorrectly from an enrollment count of 160. In particular, in Panel b the last kink lies below the class size of 40.\n",
    "</div>"
   ]
  },
  {
   "cell_type": "markdown",
   "id": "282379f4",
   "metadata": {},
   "source": [
    "Furthermore, Maimonides' rule is correlated with the average test scores.\n",
    "This is illustrated in Figure [II](#figure2), which plots the average reading score and the average predicted class size for enrollment intervals of ten (enrollment ticks show interval midpoints; the last interval is [161, 190)).\n",
    "First, we notice the positive trend between enrollment and scores.\n",
    "Test scores tend to be higher in schools with larger enrollment.\n",
    "Thus, in general test scores are higher for larger predicted classes.\n",
    "Better schools might have higher enrollments because they attract more students.\n",
    "Also, Angrist and Lavy ([1999](#Angrist_1999), p. 544) point out that larger schools in Israel are more likely located in relatively prosperous cities where children exhibit a higher socioeconomic status.\n",
    "Indeed, Figure [EXT_3](#figure3_EXT) reveals that for both grades higher enrollment is on average accompanied by a lower percent disadvantaged. The correlation coefficients are $\\rho = -0.32$ (5th grade) and $\\rho = -0.30$ (4th grade).\n",
    "Second, ignoring the trend there appears to exist a distinctive connection between the two curves, namely a mirroring up-and-down pattern.\n",
    "When predicted class size increases, average reading scores decrease (and vice versa).\n",
    "Both observations indicate the importance of enrollment (and also the PD index) as a control."
   ]
  },
  {
   "cell_type": "code",
   "execution_count": 7,
   "id": "11d1a448",
   "metadata": {},
   "outputs": [],
   "source": [
    "# figure2()"
   ]
  },
  {
   "cell_type": "markdown",
   "id": "dfa7b7f0",
   "metadata": {},
   "source": [
    "<figure>\n",
    "<center>\n",
    "    <img src=\"materials/figures/figure2.png\" width=\"800\" />\n",
    "    <figcaption>FIGURE II <br>\n",
    "        Average Reading Scores by Enrollment Count, and the Corresponding Average Class Size Predicted by Maimonides' Rule         </figcaption>\n",
    "<a id=\"figure2\"></a>"
   ]
  },
  {
   "cell_type": "markdown",
   "id": "a1c32e17",
   "metadata": {},
   "source": [
    "<p style=\"padding: 10px; border: 1px solid black;\">\n",
    "<strong>Note:</strong>\n",
    "The first enrollment interval [1, 11) does not contain any observations for the fourth grade.\n",
    "</p>"
   ]
  },
  {
   "cell_type": "code",
   "execution_count": 8,
   "id": "dacdef92",
   "metadata": {},
   "outputs": [],
   "source": [
    "# figure3_EXT()"
   ]
  },
  {
   "cell_type": "markdown",
   "id": "8fd6d1de",
   "metadata": {},
   "source": [
    "<figure>\n",
    "<center>\n",
    "    <img src=\"materials/figures/figure3_EXT.png\" width=\"800\" />\n",
    "    <figcaption>FIGURE EXT_3 <br>\n",
    "        Enrollment and the Share of Disadvantaged Students for Schools with Fourth and Fifth Grades, respectively. <br>\n",
    "        Also Shown is the Line of Best Fit and the Correlation Coefficient $\\rho$.\n",
    "    </figcaption>\n",
    "<a id=\"figure3_EXT\"></a>"
   ]
  },
  {
   "cell_type": "markdown",
   "id": "965e2a66",
   "metadata": {},
   "source": [
    "In fact, after \"detrending\" average test scores and predicted class sizes the negative association emerges.\n",
    "Figure [III](#figure3) plots the resulting residuals from regressions on average enrollment and average percent disadvantaged for each interval of ten.\n",
    "The mirror-image relationship is present for the reading scores of both grades (Panel a and b) and the math scores in the fifth grade (Panel c).\n",
    "On the contrary, the pattern does not show up for the math scores of fourth graders (Appendix [2](#figureA2_EXT))."
   ]
  },
  {
   "cell_type": "code",
   "execution_count": 9,
   "id": "a51cc031",
   "metadata": {},
   "outputs": [],
   "source": [
    "# figure3()"
   ]
  },
  {
   "cell_type": "markdown",
   "id": "de53b411",
   "metadata": {},
   "source": [
    "<figure>\n",
    "<center>\n",
    "    <img src=\"materials/figures/figure3.png\" width=\"800\" />\n",
    "    <figcaption>FIGURE III <br>\n",
    "        Average Test (Reading/Math) Scores and Predicted Class Size by Enrollment, <br>                                                 Residuals from Regressions on Percent Disadvantaged and Enrollment\n",
    "    </figcaption>\n",
    "<a id=\"figure3\"></a>"
   ]
  },
  {
   "cell_type": "markdown",
   "id": "852d24a0",
   "metadata": {},
   "source": [
    "This first graphical analysis suggests a causal impact of class size on test scores, which now needs to be formalized in the following as outlined in Section [4](#Empirical_strategy). "
   ]
  },
  {
   "cell_type": "markdown",
   "id": "c62928ae",
   "metadata": {},
   "source": [
    "<a id=\"Estimation_results\"></a>\n",
    "### 5.2 Estimation results"
   ]
  },
  {
   "cell_type": "markdown",
   "id": "c1872865",
   "metadata": {},
   "source": [
    "Table [II](#table2) reports OLS estimates for both grades and tests in accordance with Equation [(2)](#eq_2).\n",
    "Without any controls the estimates suggest a strong positive relationship between class size and test scores.\n",
    "For example, the class size coefficient for the reading scores in the fifth grade is a positive 0.223 (standard error = 0.034).\n",
    "The estimated coefficient is larger for the math test in both grades.\n",
    "As described in the graphical analysis, enrollment and the PD index are important controls.\n",
    "Including both in the model specification (columns (3) and (6)) leads to insignificant correlations close to zero.\n",
    "However, the OLS estimates can be expected to have pronounced selection bias as class size is endogenous and likely correlated with the error components in Equation [(2)](#eq_2).\n",
    "As a consequence, the estimates cannot be used for causal inference."
   ]
  },
  {
   "cell_type": "markdown",
   "id": "1825e3df",
   "metadata": {},
   "source": [
    "<a id=\"table2\"></a>\n",
    "<center>TABLE II <br> OLS Estimates for 1991</center>"
   ]
  },
  {
   "cell_type": "code",
   "execution_count": 10,
   "id": "739b075b",
   "metadata": {},
   "outputs": [
    {
     "data": {
      "text/html": [
       "\n",
       "<table style=\"text-align:center\"><tr><td colspan=\"7\" style=\"border-bottom: 1px solid black\"></td></tr><tr><td style=\"text-align:left\"></td><td colspan=\"6\"><center>5th Grade</center></td></tr>\n",
       "<tr><td></td><td colspan=\"6\" style=\"border-bottom: 1px solid black\"></td></tr>\n",
       "<tr><td style=\"text-align:left\"></td><td colspan=\"3\"><center>Reading comprehension</center></td><td colspan=\"3\"><center>Math</center></td></tr>\n",
       "<tr><td style=\"text-align:left\"></td><td>(1)</td><td>(2)</td><td>(3)</td><td>(4)</td><td>(5)</td><td>(6)</td></tr>\n",
       "<tr><td colspan=\"7\" style=\"border-bottom: 1px solid black\"></td></tr><tr><td style=\"text-align:left\">Class size</td><td>.223</td><td>-.031</td><td>-.025</td><td>.322</td><td>.076</td><td>.019</td></tr>\n",
       "<tr><td style=\"text-align:left\"></td><td>(.034)</td><td>(.026)</td><td>(.033)</td><td>(.040)</td><td>(.036)</td><td>(.042)</td></tr>\n",
       "<tr><td style=\"text-align:left\">Percent disadvantaged</td><td></td><td>-.350</td><td>-.350</td><td></td><td>-.340</td><td>-.332</td></tr>\n",
       "<tr><td style=\"text-align:left\"></td><td></td><td>(.014)</td><td>(.015)</td><td></td><td>(.018)</td><td>(.019)</td></tr>\n",
       "<tr><td style=\"text-align:left\">Enrollment</td><td></td><td></td><td>-.002</td><td></td><td></td><td>.017</td></tr>\n",
       "<tr><td style=\"text-align:left\"></td><td></td><td></td><td>(.006)</td><td></td><td></td><td>(.008)</td></tr>\n",
       "<tr><td colspan=\"7\" style=\"border-bottom: 1px solid black\"></td></tr><tr><td style=\"text-align:left\">R<sup>2</sup></td><td>.036</td><td>.367</td><td>.367</td><td>.048</td><td>.248</td><td>.251</td></tr>\n",
       "<tr><td style=\"text-align:left\">Root MSE</td><td>7.54</td><td>6.11</td><td>6.11</td><td>9.36</td><td>8.32</td><td>8.31</td></tr>\n",
       "<tr><td style=\"text-align:left\">N</td><td></td><td>2,018</td><td></td><td></td><td>2,018</td><td></td></tr>\n",
       "<tr><td colspan=\"7\" style=\"border-bottom: 1px solid black\"></td></tr><tr><td colspan=\"7\" style=\"text-align:left\">Standard errors (in parantheses) were corrected for within-school correlation between classes.</td></tr>\n",
       "</table>"
      ]
     },
     "metadata": {},
     "output_type": "display_data"
    },
    {
     "data": {
      "text/html": [
       "\n",
       "<table style=\"text-align:center\"><tr><td colspan=\"7\" style=\"border-bottom: 1px solid black\"></td></tr><tr><td style=\"text-align:left\"></td><td colspan=\"6\"><center>4th Grade</center></td></tr>\n",
       "<tr><td></td><td colspan=\"6\" style=\"border-bottom: 1px solid black\"></td></tr>\n",
       "<tr><td style=\"text-align:left\"></td><td colspan=\"3\"><center>Reading comprehension</center></td><td colspan=\"3\"><center>Math</center></td></tr>\n",
       "<tr><td style=\"text-align:left\"></td><td>(1)</td><td>(2)</td><td>(3)</td><td>(4)</td><td>(5)</td><td>(6)</td></tr>\n",
       "<tr><td colspan=\"7\" style=\"border-bottom: 1px solid black\"></td></tr><tr><td style=\"text-align:left\">Class size</td><td>.141</td><td>-.053</td><td>-.040</td><td>.221</td><td>.055</td><td>.009</td></tr>\n",
       "<tr><td style=\"text-align:left\"></td><td>(.035)</td><td>(.028)</td><td>(.032)</td><td>(.039)</td><td>(.036)</td><td>(.040)</td></tr>\n",
       "<tr><td style=\"text-align:left\">Percent disadvantaged</td><td></td><td>-.339</td><td>-.341</td><td></td><td>-.289</td><td>-.281</td></tr>\n",
       "<tr><td style=\"text-align:left\"></td><td></td><td>(.015)</td><td>(.016)</td><td></td><td>(.017)</td><td>(.017)</td></tr>\n",
       "<tr><td style=\"text-align:left\">Enrollment</td><td></td><td></td><td>-.004</td><td></td><td></td><td>.014</td></tr>\n",
       "<tr><td style=\"text-align:left\"></td><td></td><td></td><td>(.006)</td><td></td><td></td><td>(.007)</td></tr>\n",
       "<tr><td colspan=\"7\" style=\"border-bottom: 1px solid black\"></td></tr><tr><td style=\"text-align:left\">R<sup>2</sup></td><td>.013</td><td>.309</td><td>.309</td><td>.025</td><td>.204</td><td>.207</td></tr>\n",
       "<tr><td style=\"text-align:left\">Root MSE</td><td>7.94</td><td>6.64</td><td>6.64</td><td>8.65</td><td>7.82</td><td>7.81</td></tr>\n",
       "<tr><td style=\"text-align:left\">N</td><td></td><td>2,049</td><td></td><td></td><td>2,049</td><td></td></tr>\n",
       "<tr><td colspan=\"7\" style=\"border-bottom: 1px solid black\"></td></tr><tr><td colspan=\"7\" style=\"text-align:left\">Standard errors (in parantheses) were corrected for within-school correlation between classes.</td></tr>\n",
       "</table>"
      ]
     },
     "metadata": {},
     "output_type": "display_data"
    }
   ],
   "source": [
    "table2(data = grade5_reg)\n",
    "table2(data = grade4)"
   ]
  },
  {
   "cell_type": "markdown",
   "id": "4cde31a8",
   "metadata": {},
   "source": [
    "<div class=\"alert alert-info\">\n",
    "<strong>Remark:</strong>\n",
    "In the original Table II (Angrist and Lavy, <a href=\"#Angrist_1999\" class=\"link\">1999</a>, p. 551), some of the listed mean scores and standard deviations (not shown in our replication tables) are wrong. The correct values are given in the above Table <a href=\"#table1\" class=\"link\">I</a>. \n",
    "</div>"
   ]
  },
  {
   "cell_type": "markdown",
   "id": "f5f31939",
   "metadata": {},
   "source": [
    "In Table [III](#table3) estimates of the first stage and the reduced form are presented.\n",
    "Equation [(3)](#eq_3) states the formula for the first stage and Figure [I](#figure1) the graphical counter part.\n",
    "The plot belonging to the reduced form results is Figure [III](#figure3).\n",
    "Panel A refers to the full sample, whereas Panel B reports for the +/- 5 discontinuity sample.\n",
    "\n",
    "The first two columns for the full sample show a strong effect of $\\text{f}_{sc}$ on class size (the coefficient ranges from 0.54 to 0.77).\n",
    "More than half of the variation in actual class size is explained.\n",
    "That weak identification is not a concern in our setting is also concluded by Feir et al. ([2016](#Feir_2016), Section 4).\n",
    "For the reduced form a negative association is precisely estimated for the reading scores and math scores (if enrollment control is included) of the fifth graders.\n",
    "For example, the estimate in column (4) for the 5th grade implies that a reduction in predicted class size of ten students is associated with a 1.5 point boost in average reading test scores.\n",
    "Concerning the fourth grade, the estimated negative relationship is significant (although smaller) for reading comprehension but not for mathematics (as already seen in Figure [EXT_A2](#figureA2_EXT)).\n",
    "\n",
    "Figure [I](#figure1) has shown that the connection between predicted and actual class size is less strong near the discontinuities.\n",
    "Mathematically, this is expressed by a smaller estimated first stage coefficient as well as a smaller R² as given in the lower panel, in particular for the fifth grade.\n",
    "Still, also for the +/- 5 discontinuity sample there is no real issue with a weak instrument (as supported by the F scores in the 2SLS procedure).\n",
    "For the fifth graders the reduced form estimates are now larger in magnitude but also less precisely estimated (due to shrunken sample size).\n",
    "For the fourth graders, however, estimates for the reading scores are no longer significant.\n",
    "Moreover, both math coefficients in column (5) and (6), respectively, are positive."
   ]
  },
  {
   "cell_type": "markdown",
   "id": "b697596d",
   "metadata": {},
   "source": [
    "<a id=\"table3\"></a>\n",
    "<center>TABLE III <br> Reduced-form Estimates for 1991</center>"
   ]
  },
  {
   "cell_type": "markdown",
   "id": "1f5d47ef",
   "metadata": {},
   "source": [
    "A. Full sample"
   ]
  },
  {
   "cell_type": "code",
   "execution_count": 11,
   "id": "8e041949",
   "metadata": {},
   "outputs": [
    {
     "data": {
      "text/html": [
       "\n",
       "<table style=\"text-align:center\"><tr><td colspan=\"7\" style=\"border-bottom: 1px solid black\"></td></tr><tr><td style=\"text-align:left\"></td><td colspan=\"6\"><center>5th Graders</center></td></tr>\n",
       "<tr><td></td><td colspan=\"6\" style=\"border-bottom: 1px solid black\"></td></tr>\n",
       "<tr><td style=\"text-align:left\"></td><td colspan=\"2\"><center>Class size</center></td><td colspan=\"2\"><center>Reading comprehension</center></td><td colspan=\"2\"><center>Math</center></td></tr>\n",
       "<tr><td style=\"text-align:left\"></td><td>(1)</td><td>(2)</td><td>(3)</td><td>(4)</td><td>(5)</td><td>(6)</td></tr>\n",
       "<tr><td colspan=\"7\" style=\"border-bottom: 1px solid black\"></td></tr><tr><td style=\"text-align:left\">f<sub>sc</sub></td><td>.703</td><td>.541</td><td>-.111</td><td>-.150</td><td>-.009</td><td>-.125</td></tr>\n",
       "<tr><td style=\"text-align:left\"></td><td>(.025)</td><td>(.037)</td><td>(.029)</td><td>(.039)</td><td>(.040)</td><td>(.051)</td></tr>\n",
       "<tr><td style=\"text-align:left\">Percent disadvantaged</td><td>-.077</td><td>-.054</td><td>-.359</td><td>-.354</td><td>-.354</td><td>-.337</td></tr>\n",
       "<tr><td style=\"text-align:left\"></td><td>(.011)</td><td>(.010)</td><td>(.014)</td><td>(.015)</td><td>(.018)</td><td>(.019)</td></tr>\n",
       "<tr><td style=\"text-align:left\">Enrollment</td><td></td><td>.043</td><td></td><td>.010</td><td></td><td>.031</td></tr>\n",
       "<tr><td style=\"text-align:left\"></td><td></td><td>(.005)</td><td></td><td>(.006)</td><td></td><td>(.008)</td></tr>\n",
       "<tr><td colspan=\"7\" style=\"border-bottom: 1px solid black\"></td></tr><tr><td style=\"text-align:left\">R<sup>2</sup></td><td>.516</td><td>.552</td><td>.373</td><td>.375</td><td>.246</td><td>.254</td></tr>\n",
       "<tr><td style=\"text-align:left\">Root MSE</td><td>4.55</td><td>4.38</td><td>6.08</td><td>6.07</td><td>8.33</td><td>8.29</td></tr>\n",
       "<tr><td style=\"text-align:left\">N</td><td>2,018</td><td>2,018</td><td>2,018</td><td>2,018</td><td>2,018</td><td>2,018</td></tr>\n",
       "<tr><td colspan=\"7\" style=\"border-bottom: 1px solid black\"></td></tr><tr><td colspan=\"7\" style=\"text-align:left\">Standard errors (in parantheses) were corrected for within-school correlation between classes.</td></tr>\n",
       "</table>"
      ]
     },
     "metadata": {},
     "output_type": "display_data"
    },
    {
     "data": {
      "text/html": [
       "\n",
       "<table style=\"text-align:center\"><tr><td colspan=\"7\" style=\"border-bottom: 1px solid black\"></td></tr><tr><td style=\"text-align:left\"></td><td colspan=\"6\"><center>4th Graders</center></td></tr>\n",
       "<tr><td></td><td colspan=\"6\" style=\"border-bottom: 1px solid black\"></td></tr>\n",
       "<tr><td style=\"text-align:left\"></td><td colspan=\"2\"><center>Class size</center></td><td colspan=\"2\"><center>Reading comprehension</center></td><td colspan=\"2\"><center>Math</center></td></tr>\n",
       "<tr><td style=\"text-align:left\"></td><td>(1)</td><td>(2)</td><td>(3)</td><td>(4)</td><td>(5)</td><td>(6)</td></tr>\n",
       "<tr><td colspan=\"7\" style=\"border-bottom: 1px solid black\"></td></tr><tr><td style=\"text-align:left\">f<sub>sc</sub></td><td>.772</td><td>.670</td><td>-.085</td><td>-.089</td><td>.038</td><td>-.033</td></tr>\n",
       "<tr><td style=\"text-align:left\"></td><td>(.022)</td><td>(.033)</td><td>(.031)</td><td>(.040)</td><td>(.040)</td><td>(.050)</td></tr>\n",
       "<tr><td style=\"text-align:left\">Percent disadvantaged</td><td>-.054</td><td>-.039</td><td>-.340</td><td>-.340</td><td>-.292</td><td>-.282</td></tr>\n",
       "<tr><td style=\"text-align:left\"></td><td>(.009)</td><td>(.009)</td><td>(.015)</td><td>(.016)</td><td>(.017)</td><td>(.017)</td></tr>\n",
       "<tr><td style=\"text-align:left\">Enrollment</td><td></td><td>.027</td><td></td><td>.001</td><td></td><td>.019</td></tr>\n",
       "<tr><td style=\"text-align:left\"></td><td></td><td>(.005)</td><td></td><td>(.007)</td><td></td><td>(.008)</td></tr>\n",
       "<tr><td colspan=\"7\" style=\"border-bottom: 1px solid black\"></td></tr><tr><td style=\"text-align:left\">R<sup>2</sup></td><td>.561</td><td>.575</td><td>.311</td><td>.311</td><td>.203</td><td>.207</td></tr>\n",
       "<tr><td style=\"text-align:left\">Root MSE</td><td>4.19</td><td>4.12</td><td>6.63</td><td>6.63</td><td>7.82</td><td>7.81</td></tr>\n",
       "<tr><td style=\"text-align:left\">N</td><td>2,049</td><td>2,049</td><td>2,049</td><td>2,049</td><td>2,049</td><td>2,049</td></tr>\n",
       "<tr><td colspan=\"7\" style=\"border-bottom: 1px solid black\"></td></tr><tr><td colspan=\"7\" style=\"text-align:left\">Standard errors (in parantheses) were corrected for within-school correlation between classes.</td></tr>\n",
       "</table>"
      ]
     },
     "metadata": {},
     "output_type": "display_data"
    }
   ],
   "source": [
    "table3(data = grade5_reg)\n",
    "table3(data = grade4)"
   ]
  },
  {
   "cell_type": "markdown",
   "id": "51901c6a",
   "metadata": {},
   "source": [
    "B. Discontinuity sample"
   ]
  },
  {
   "cell_type": "code",
   "execution_count": 12,
   "id": "7211ecc3",
   "metadata": {},
   "outputs": [
    {
     "data": {
      "text/html": [
       "\n",
       "<table style=\"text-align:center\"><tr><td colspan=\"7\" style=\"border-bottom: 1px solid black\"></td></tr><tr><td style=\"text-align:left\"></td><td colspan=\"6\"><center>5th Graders</center></td></tr>\n",
       "<tr><td></td><td colspan=\"6\" style=\"border-bottom: 1px solid black\"></td></tr>\n",
       "<tr><td style=\"text-align:left\"></td><td colspan=\"2\"><center>Class size</center></td><td colspan=\"2\"><center>Reading comprehension</center></td><td colspan=\"2\"><center>Math</center></td></tr>\n",
       "<tr><td style=\"text-align:left\"></td><td>(1)</td><td>(2)</td><td>(3)</td><td>(4)</td><td>(5)</td><td>(6)</td></tr>\n",
       "<tr><td colspan=\"7\" style=\"border-bottom: 1px solid black\"></td></tr><tr><td style=\"text-align:left\">f<sub>sc</sub></td><td>.481</td><td>.346</td><td>-.197</td><td>-.202</td><td>-.089</td><td>-.154</td></tr>\n",
       "<tr><td style=\"text-align:left\"></td><td>(.057)</td><td>(.062)</td><td>(.050)</td><td>(.059)</td><td>(.072)</td><td>(.079)</td></tr>\n",
       "<tr><td style=\"text-align:left\">Percent disadvantaged</td><td>-.130</td><td>-.067</td><td>-.424</td><td>-.422</td><td>-.435</td><td>-.405</td></tr>\n",
       "<tr><td style=\"text-align:left\"></td><td>(.033)</td><td>(.028)</td><td>(.035)</td><td>(.036)</td><td>(.040)</td><td>(.041)</td></tr>\n",
       "<tr><td style=\"text-align:left\">Enrollment</td><td></td><td>.086</td><td></td><td>.003</td><td></td><td>.041</td></tr>\n",
       "<tr><td style=\"text-align:left\"></td><td></td><td>(.016)</td><td></td><td>(.015)</td><td></td><td>(.020)</td></tr>\n",
       "<tr><td colspan=\"7\" style=\"border-bottom: 1px solid black\"></td></tr><tr><td style=\"text-align:left\">R<sup>2</sup></td><td>.360</td><td>.437</td><td>.421</td><td>.421</td><td>.296</td><td>.305</td></tr>\n",
       "<tr><td style=\"text-align:left\">Root MSE</td><td>5.93</td><td>5.56</td><td>6.22</td><td>6.22</td><td>8.55</td><td>8.5</td></tr>\n",
       "<tr><td style=\"text-align:left\">N</td><td>471</td><td>471</td><td>471</td><td>471</td><td>471</td><td>471</td></tr>\n",
       "<tr><td colspan=\"7\" style=\"border-bottom: 1px solid black\"></td></tr><tr><td colspan=\"7\" style=\"text-align:left\">Standard errors (in parantheses) were corrected for within-school correlation between classes.</td></tr>\n",
       "</table>"
      ]
     },
     "metadata": {},
     "output_type": "display_data"
    },
    {
     "data": {
      "text/html": [
       "\n",
       "<table style=\"text-align:center\"><tr><td colspan=\"7\" style=\"border-bottom: 1px solid black\"></td></tr><tr><td style=\"text-align:left\"></td><td colspan=\"6\"><center>4th Graders</center></td></tr>\n",
       "<tr><td></td><td colspan=\"6\" style=\"border-bottom: 1px solid black\"></td></tr>\n",
       "<tr><td style=\"text-align:left\"></td><td colspan=\"2\"><center>Class size</center></td><td colspan=\"2\"><center>Reading comprehension</center></td><td colspan=\"2\"><center>Math</center></td></tr>\n",
       "<tr><td style=\"text-align:left\"></td><td>(1)</td><td>(2)</td><td>(3)</td><td>(4)</td><td>(5)</td><td>(6)</td></tr>\n",
       "<tr><td colspan=\"7\" style=\"border-bottom: 1px solid black\"></td></tr><tr><td style=\"text-align:left\">f<sub>sc</sub></td><td>.625</td><td>.503</td><td>-.061</td><td>-.075</td><td>.059</td><td>.012</td></tr>\n",
       "<tr><td style=\"text-align:left\"></td><td>(.048)</td><td>(.061)</td><td>(.059)</td><td>(.063)</td><td>(.079)</td><td>(.080)</td></tr>\n",
       "<tr><td style=\"text-align:left\">Percent disadvantaged</td><td>-.068</td><td>-.029</td><td>-.348</td><td>-.343</td><td>-.306</td><td>-.291</td></tr>\n",
       "<tr><td style=\"text-align:left\"></td><td>(.029)</td><td>(.027)</td><td>(.035)</td><td>(.038)</td><td>(.040)</td><td>(.042)</td></tr>\n",
       "<tr><td style=\"text-align:left\">Enrollment</td><td></td><td>.063</td><td></td><td>.007</td><td></td><td>.024</td></tr>\n",
       "<tr><td style=\"text-align:left\"></td><td></td><td>(.016)</td><td></td><td>(.016)</td><td></td><td>(.020)</td></tr>\n",
       "<tr><td colspan=\"7\" style=\"border-bottom: 1px solid black\"></td></tr><tr><td style=\"text-align:left\">R<sup>2</sup></td><td>.428</td><td>.475</td><td>.299</td><td>.299</td><td>.178</td><td>.182</td></tr>\n",
       "<tr><td style=\"text-align:left\">Root MSE</td><td>5.47</td><td>5.24</td><td>6.55</td><td>6.55</td><td>8.23</td><td>8.21</td></tr>\n",
       "<tr><td style=\"text-align:left\">N</td><td>415</td><td>415</td><td>415</td><td>415</td><td>415</td><td>415</td></tr>\n",
       "<tr><td colspan=\"7\" style=\"border-bottom: 1px solid black\"></td></tr><tr><td colspan=\"7\" style=\"text-align:left\">Standard errors (in parantheses) were corrected for within-school correlation between classes.</td></tr>\n",
       "</table>"
      ]
     },
     "metadata": {},
     "output_type": "display_data"
    }
   ],
   "source": [
    "table3(data = grade5_sub_sample_5)\n",
    "table3(data = grade4_sub_sample_5)"
   ]
  },
  {
   "cell_type": "markdown",
   "id": "4a792fed",
   "metadata": {},
   "source": [
    "The next two tables form the main part of the study by Angrist and Lavy ([1999](#Angrist_1999)).\n",
    "Reported are IV estimates for the effect of class size (instrumented by Maimonides' rule) on test scores, as discussed in Section [4](#Empirical_strategy).\n",
    "Table [IV](#table4) shows the estimates for the 5th grade and Table [V](#table5) for the 4th grade.\n",
    "Originally, the estimation is conducted on the full and the +/- 5 discontinuity sample.\n",
    "To further check the sensitivity of the findings we extend the tables to also include results for a +/- 3 sample.\n",
    "That is, we reduce the bandwidth such that only schools with grade enrollment in the set {[38–43], [78–83], [118–123]} are considered.\n",
    "This sample includes about 15% of the original schools for the fifth grade and about 13% for the fourth grade.\n",
    "\n",
    "To capture the causal effect of class size in the RDD, controls for the running variable (enrollment) need to be adequate in order to eliminate any other effects of enrollment on test scores.\n",
    "Therefore, Angrist and Lavy ([1999](#Angrist_1999)) include different smooth functions of enrollment.\n",
    "In column (4) of the tables below the model specification only includes a continuous piecewise linear trend that mirrors the slope of the class size function $\\text{f}_{sc}$ on the linear segments.\n",
    "This trend is defined as:\n",
    "\n",
    "\\begin{align*}\n",
    "    &e_s \\, , &e_s &\\in [0, 40] \\\\\n",
    "    &20 + \\frac{e_s}{2} \\, , &e_s &\\in [41, 80] \\\\\n",
    "    &\\frac{100}{3} + \\frac{e_s}{3} \\, , &e_s &\\in [81, 120] \\\\\n",
    "    &\\frac{130}{3} + \\frac{e_s}{4} \\, , &e_s &\\in [121, 160] \\, .\n",
    "\\end{align*}\n",
    "\n",
    "The idea is that no additional controls have to be included once the trend effects of enrollment are fully controlled (Angrist and Lavy, [1999](#Angrist_1999), p. 555)."
   ]
  },
  {
   "cell_type": "markdown",
   "id": "9a797555",
   "metadata": {},
   "source": [
    "We first discuss results for the fifth grade in Table [IV](#table4).\n",
    "The IV estimates for the class size effect on the reading scores with parametric controls range from -0.158 (no enrollment control) to -0.276 (linear enrollment control) and are precisely estimated.\n",
    "The estimate for the model including only the piecewise linear trend also shows a negative association of the same magnitude but is less precise.\n",
    "Results for the math scores are similar except for the specification without enrollment control (column (1)).\n",
    "The corresponding estimate is essentially zero.\n",
    "The estimates for the discontinuity samples are in general substantially larger with larger standard errors.\n",
    "For reading comprehension there is not much difference between the two subsamples, all estimates are statistically different from zero (despite the smaller sample size).\n",
    "The same, however, does not hold for mathematics.\n",
    "All coefficients are insignificant and the magnitudes are lower for the smallest bandwidth.\n",
    "\n",
    "In sum, the estimates for the 5th grade strongly suggest that smaller classes increase test scores.\n",
    "The effect size for an eight pupil reduction (as in the STAR experiment) is ca. 0.29$\\sigma$ (2.2 points) using the coefficient -0.276 from column (2)."
   ]
  },
  {
   "cell_type": "markdown",
   "id": "eaf8c520",
   "metadata": {},
   "source": [
    "<a id=\"table4\"></a>\n",
    "<center>TABLE IV, <b>Extended</b> <br> 2SLS Estimates for 1991 (Fifth Graders)</center>"
   ]
  },
  {
   "cell_type": "code",
   "execution_count": 13,
   "id": "58359363",
   "metadata": {},
   "outputs": [
    {
     "data": {
      "text/html": [
       "\n",
       "<table style=\"text-align:center\"><tr><td colspan=\"9\" style=\"border-bottom: 1px solid black\"></td></tr><tr><td style=\"text-align:left\"></td><td colspan=\"8\"><center>Reading comprehension</center></td></tr>\n",
       "<tr><td></td><td colspan=\"8\" style=\"border-bottom: 1px solid black\"></td></tr>\n",
       "<tr><td style=\"text-align:left\"></td><td colspan=\"4\"><center>Full sample</center></td><td colspan=\"2\"><center>+/- 5 Discontinuity sample</center></td><td colspan=\"2\"><center>+/- 3 Discontinuity sample</center></td></tr>\n",
       "<tr><td style=\"text-align:left\"></td><td>(1)</td><td>(2)</td><td>(3)</td><td>(4)</td><td>(5)</td><td>(6)</td><td>(7)</td><td>(8)</td></tr>\n",
       "<tr><td colspan=\"9\" style=\"border-bottom: 1px solid black\"></td></tr><tr><td style=\"text-align:left\">Class size</td><td>-.158</td><td>-.276</td><td>-.263</td><td>-.188</td><td>-.410</td><td>-.582</td><td>-.375</td><td>-.521</td></tr>\n",
       "<tr><td style=\"text-align:left\"></td><td>(.042)</td><td>(.076)</td><td>(.094)</td><td>(.122)</td><td>(.118)</td><td>(.205)</td><td>(.139)</td><td>(.227)</td></tr>\n",
       "<tr><td style=\"text-align:left\">Percent disadvantaged</td><td>-.371</td><td>-.369</td><td>-.369</td><td></td><td>-.477</td><td>-.461</td><td>-.467</td><td>-.448</td></tr>\n",
       "<tr><td style=\"text-align:left\"></td><td>(.016)</td><td>(.016)</td><td>(.016)</td><td></td><td>(.048)</td><td>(.046)</td><td>(.061)</td><td>(.057)</td></tr>\n",
       "<tr><td style=\"text-align:left\">Enrollment</td><td></td><td>.022</td><td>.013</td><td></td><td></td><td>.053</td><td></td><td>.049</td></tr>\n",
       "<tr><td style=\"text-align:left\"></td><td></td><td>(.009)</td><td>(.026)</td><td></td><td></td><td>(.032)</td><td></td><td>(.036)</td></tr>\n",
       "<tr><td style=\"text-align:left\">Enrollment squared/100</td><td></td><td></td><td>.004</td><td></td><td></td><td></td><td></td><td></td></tr>\n",
       "<tr><td style=\"text-align:left\"></td><td></td><td></td><td>(.010)</td><td></td><td></td><td></td><td></td><td></td></tr>\n",
       "<tr><td style=\"text-align:left\">Piecewise linear trend</td><td></td><td></td><td></td><td>.137</td><td></td><td></td><td></td><td></td></tr>\n",
       "<tr><td style=\"text-align:left\"></td><td></td><td></td><td></td><td>(.036)</td><td></td><td></td><td></td><td></td></tr>\n",
       "<tr><td colspan=\"9\" style=\"border-bottom: 1px solid black\"></td></tr><tr><td style=\"text-align:left\">Root MSE</td><td>6.16</td><td>6.24</td><td>6.23</td><td>7.71</td><td>6.77</td><td>7.12</td><td>6.73</td><td>7</td></tr>\n",
       "<tr><td style=\"text-align:left\">N</td><td>2018</td><td>2018</td><td>2018</td><td>1960</td><td>471</td><td>471</td><td>302</td><td>302</td></tr>\n",
       "<tr><td colspan=\"9\" style=\"border-bottom: 1px solid black\"></td></tr><tr><td colspan=\"9\" style=\"text-align:left\">Standard errors (in parantheses) were corrected for within-school correlation between classes. All estimates use f<sub>sc</sub> as an instrument for class size.</td></tr>\n",
       "</table>"
      ]
     },
     "metadata": {},
     "output_type": "display_data"
    },
    {
     "data": {
      "text/html": [
       "\n",
       "<table style=\"text-align:center\"><tr><td colspan=\"9\" style=\"border-bottom: 1px solid black\"></td></tr><tr><td style=\"text-align:left\"></td><td colspan=\"8\"><center>Math</center></td></tr>\n",
       "<tr><td></td><td colspan=\"8\" style=\"border-bottom: 1px solid black\"></td></tr>\n",
       "<tr><td style=\"text-align:left\"></td><td colspan=\"4\"><center>Full sample</center></td><td colspan=\"2\"><center>+/- 5 Discontinuity sample</center></td><td colspan=\"2\"><center>+/- 3 Discontinuity sample</center></td></tr>\n",
       "<tr><td style=\"text-align:left\"></td><td>(1)</td><td>(2)</td><td>(3)</td><td>(4)</td><td>(5)</td><td>(6)</td><td>(7)</td><td>(8)</td></tr>\n",
       "<tr><td colspan=\"9\" style=\"border-bottom: 1px solid black\"></td></tr><tr><td style=\"text-align:left\">Class size</td><td>-.013</td><td>-.231</td><td>-.264</td><td>-.205</td><td>-.185</td><td>-.443</td><td>-.071</td><td>-.293</td></tr>\n",
       "<tr><td style=\"text-align:left\"></td><td>(.058)</td><td>(.098)</td><td>(.123)</td><td>(.145)</td><td>(.155)</td><td>(.250)</td><td>(.175)</td><td>(.267)</td></tr>\n",
       "<tr><td style=\"text-align:left\">Percent disadvantaged</td><td>-.355</td><td>-.350</td><td>-.350</td><td></td><td>-.459</td><td>-.435</td><td>-.451</td><td>-.421</td></tr>\n",
       "<tr><td style=\"text-align:left\"></td><td>(.020)</td><td>(.020)</td><td>(.020)</td><td></td><td>(.052)</td><td>(.050)</td><td>(.059)</td><td>(.056)</td></tr>\n",
       "<tr><td style=\"text-align:left\">Enrollment</td><td></td><td>.041</td><td>.063</td><td></td><td></td><td>.079</td><td></td><td>.074</td></tr>\n",
       "<tr><td style=\"text-align:left\"></td><td></td><td>(.012)</td><td>(.036)</td><td></td><td></td><td>(.037)</td><td></td><td>(.041)</td></tr>\n",
       "<tr><td style=\"text-align:left\">Enrollment squared/100</td><td></td><td></td><td>-.010</td><td></td><td></td><td></td><td></td><td></td></tr>\n",
       "<tr><td style=\"text-align:left\"></td><td></td><td></td><td>(.014)</td><td></td><td></td><td></td><td></td><td></td></tr>\n",
       "<tr><td style=\"text-align:left\">Piecewise linear trend</td><td></td><td></td><td></td><td>.194</td><td></td><td></td><td></td><td></td></tr>\n",
       "<tr><td style=\"text-align:left\"></td><td></td><td></td><td></td><td>(.043)</td><td></td><td></td><td></td><td></td></tr>\n",
       "<tr><td colspan=\"9\" style=\"border-bottom: 1px solid black\"></td></tr><tr><td style=\"text-align:left\">Root MSE</td><td>8.34</td><td>8.4</td><td>8.42</td><td>9.49</td><td>8.76</td><td>9.06</td><td>8.74</td><td>8.9</td></tr>\n",
       "<tr><td style=\"text-align:left\">N</td><td>2018</td><td>2018</td><td>2018</td><td>1960</td><td>471</td><td>471</td><td>302</td><td>302</td></tr>\n",
       "<tr><td colspan=\"9\" style=\"border-bottom: 1px solid black\"></td></tr><tr><td colspan=\"9\" style=\"text-align:left\">Standard errors (in parantheses) were corrected for within-school correlation between classes. All estimates use f<sub>sc</sub> as an instrument for class size.</td></tr>\n",
       "</table>"
      ]
     },
     "metadata": {},
     "output_type": "display_data"
    }
   ],
   "source": [
    "table4and5(data = grade5_reg, test = \"reading\")\n",
    "table4and5(data = grade5_reg, test = \"math\")"
   ]
  },
  {
   "cell_type": "markdown",
   "id": "ed81851f",
   "metadata": {},
   "source": [
    "Looking at the first part of Table [V](#table5), effects are smaller.\n",
    "The IV estimates range from -0.074 (quadratic enrollment control) to -0.147 (piecewise linear trend).\n",
    "In contrast to Table [IV](#table4), the findings do not seem to be sensitive to the sample choice (though estimates for the discontinuity samples are all imprecise).\n",
    "The reported results for the math test are much weaker.\n",
    "In fact, all estimated coefficients are markedly insignificant.\n",
    "Additionally, half of the estimates are even positive.\n",
    "\n",
    "In sum, the estimates for the 4th grade reading scores suggest to some degree a positive causal impact of class size reduction.\n",
    "However, results for mathematics show no relationship.\n",
    "The effect size for an eight pupil reduction is ca. 0.13$\\sigma$ (1.1 points) using the coefficient -0.133 from column (2). "
   ]
  },
  {
   "cell_type": "markdown",
   "id": "9a398459",
   "metadata": {},
   "source": [
    "<a id=\"table5\"></a>\n",
    "<center>TABLE V, <b>Extended</b> <br> 2SLS Estimates for 1991 (Fourth Graders)</center>"
   ]
  },
  {
   "cell_type": "code",
   "execution_count": 14,
   "id": "c5ba0bfa",
   "metadata": {},
   "outputs": [
    {
     "data": {
      "text/html": [
       "\n",
       "<table style=\"text-align:center\"><tr><td colspan=\"9\" style=\"border-bottom: 1px solid black\"></td></tr><tr><td style=\"text-align:left\"></td><td colspan=\"8\"><center>Reading comprehension</center></td></tr>\n",
       "<tr><td></td><td colspan=\"8\" style=\"border-bottom: 1px solid black\"></td></tr>\n",
       "<tr><td style=\"text-align:left\"></td><td colspan=\"4\"><center>Full sample</center></td><td colspan=\"2\"><center>+/- 5 Discontinuity sample</center></td><td colspan=\"2\"><center>+/- 3 Discontinuity sample</center></td></tr>\n",
       "<tr><td style=\"text-align:left\"></td><td>(1)</td><td>(2)</td><td>(3)</td><td>(4)</td><td>(5)</td><td>(6)</td><td>(7)</td><td>(8)</td></tr>\n",
       "<tr><td colspan=\"9\" style=\"border-bottom: 1px solid black\"></td></tr><tr><td style=\"text-align:left\">Class size</td><td>-.110</td><td>-.133</td><td>-.074</td><td>-.147</td><td>-.098</td><td>-.150</td><td>-.099</td><td>-.179</td></tr>\n",
       "<tr><td style=\"text-align:left\"></td><td>(.040)</td><td>(.061)</td><td>(.068)</td><td>(.089)</td><td>(.095)</td><td>(.131)</td><td>(.112)</td><td>(.170)</td></tr>\n",
       "<tr><td style=\"text-align:left\">Percent disadvantaged</td><td>-.346</td><td>-.345</td><td>-.346</td><td></td><td>-.354</td><td>-.347</td><td>-.375</td><td>-.369</td></tr>\n",
       "<tr><td style=\"text-align:left\"></td><td>(.016)</td><td>(.016)</td><td>(.016)</td><td></td><td>(.036)</td><td>(.038)</td><td>(.044)</td><td>(.045)</td></tr>\n",
       "<tr><td style=\"text-align:left\">Enrollment</td><td></td><td>.005</td><td>-.040</td><td></td><td></td><td>.017</td><td></td><td>.025</td></tr>\n",
       "<tr><td style=\"text-align:left\"></td><td></td><td>(.008)</td><td>(.022)</td><td></td><td></td><td>(.022)</td><td></td><td>(.030)</td></tr>\n",
       "<tr><td style=\"text-align:left\">Enrollment squared/100</td><td></td><td></td><td>.021</td><td></td><td></td><td></td><td></td><td></td></tr>\n",
       "<tr><td style=\"text-align:left\"></td><td></td><td></td><td>(.009)</td><td></td><td></td><td></td><td></td><td></td></tr>\n",
       "<tr><td style=\"text-align:left\">Piecewise linear trend</td><td></td><td></td><td></td><td>.100</td><td></td><td></td><td></td><td></td></tr>\n",
       "<tr><td style=\"text-align:left\"></td><td></td><td></td><td></td><td>(.026)</td><td></td><td></td><td></td><td></td></tr>\n",
       "<tr><td colspan=\"9\" style=\"border-bottom: 1px solid black\"></td></tr><tr><td style=\"text-align:left\">Root MSE</td><td>6.65</td><td>6.66</td><td>6.63</td><td>8.01</td><td>6.62</td><td>6.66</td><td>6.5</td><td>6.57</td></tr>\n",
       "<tr><td style=\"text-align:left\">N</td><td>2049</td><td>2049</td><td>2049</td><td>2001</td><td>415</td><td>415</td><td>265</td><td>265</td></tr>\n",
       "<tr><td colspan=\"9\" style=\"border-bottom: 1px solid black\"></td></tr><tr><td colspan=\"9\" style=\"text-align:left\">Standard errors (in parantheses) were corrected for within-school correlation between classes. All estimates use f<sub>sc</sub> as an instrument for class size.</td></tr>\n",
       "</table>"
      ]
     },
     "metadata": {},
     "output_type": "display_data"
    },
    {
     "data": {
      "text/html": [
       "\n",
       "<table style=\"text-align:center\"><tr><td colspan=\"9\" style=\"border-bottom: 1px solid black\"></td></tr><tr><td style=\"text-align:left\"></td><td colspan=\"8\"><center>Math</center></td></tr>\n",
       "<tr><td></td><td colspan=\"8\" style=\"border-bottom: 1px solid black\"></td></tr>\n",
       "<tr><td style=\"text-align:left\"></td><td colspan=\"4\"><center>Full sample</center></td><td colspan=\"2\"><center>+/- 5 Discontinuity sample</center></td><td colspan=\"2\"><center>+/- 3 Discontinuity sample</center></td></tr>\n",
       "<tr><td style=\"text-align:left\"></td><td>(1)</td><td>(2)</td><td>(3)</td><td>(4)</td><td>(5)</td><td>(6)</td><td>(7)</td><td>(8)</td></tr>\n",
       "<tr><td colspan=\"9\" style=\"border-bottom: 1px solid black\"></td></tr><tr><td style=\"text-align:left\">Class size</td><td>.049</td><td>-.050</td><td>-.033</td><td>-.098</td><td>.095</td><td>.023</td><td>.046</td><td>-.078</td></tr>\n",
       "<tr><td style=\"text-align:left\"></td><td>(.052)</td><td>(.075)</td><td>(.084)</td><td>(.099)</td><td>(.126)</td><td>(.158)</td><td>(.154)</td><td>(.207)</td></tr>\n",
       "<tr><td style=\"text-align:left\">Percent disadvantaged</td><td>-.290</td><td>-.284</td><td>-.284</td><td></td><td>-.299</td><td>-.290</td><td>-.330</td><td>-.321</td></tr>\n",
       "<tr><td style=\"text-align:left\"></td><td>(.018)</td><td>(.017)</td><td>(.017)</td><td></td><td>(.042)</td><td>(.042)</td><td>(.053)</td><td>(.053)</td></tr>\n",
       "<tr><td style=\"text-align:left\">Enrollment</td><td></td><td>.020</td><td>.007</td><td></td><td></td><td>.023</td><td></td><td>.039</td></tr>\n",
       "<tr><td style=\"text-align:left\"></td><td></td><td>(.009)</td><td>(.027)</td><td></td><td></td><td>(.024)</td><td></td><td>(.033)</td></tr>\n",
       "<tr><td style=\"text-align:left\">Enrollment squared/100</td><td></td><td></td><td>.006</td><td></td><td></td><td></td><td></td><td></td></tr>\n",
       "<tr><td style=\"text-align:left\"></td><td></td><td></td><td>(.012)</td><td></td><td></td><td></td><td></td><td></td></tr>\n",
       "<tr><td style=\"text-align:left\">Piecewise linear trend</td><td></td><td></td><td></td><td>.130</td><td></td><td></td><td></td><td></td></tr>\n",
       "<tr><td style=\"text-align:left\"></td><td></td><td></td><td></td><td>(.029)</td><td></td><td></td><td></td><td></td></tr>\n",
       "<tr><td colspan=\"9\" style=\"border-bottom: 1px solid black\"></td></tr><tr><td style=\"text-align:left\">Root MSE</td><td>7.82</td><td>7.81</td><td>7.81</td><td>8.64</td><td>8.2</td><td>8.2</td><td>8.38</td><td>8.42</td></tr>\n",
       "<tr><td style=\"text-align:left\">N</td><td>2049</td><td>2049</td><td>2049</td><td>2001</td><td>415</td><td>415</td><td>265</td><td>265</td></tr>\n",
       "<tr><td colspan=\"9\" style=\"border-bottom: 1px solid black\"></td></tr><tr><td colspan=\"9\" style=\"text-align:left\">Standard errors (in parantheses) were corrected for within-school correlation between classes. All estimates use f<sub>sc</sub> as an instrument for class size.</td></tr>\n",
       "</table>"
      ]
     },
     "metadata": {},
     "output_type": "display_data"
    }
   ],
   "source": [
    "table4and5(data = grade4, test = \"reading\")\n",
    "table4and5(data = grade4, test = \"math\")"
   ]
  },
  {
   "cell_type": "markdown",
   "id": "506dafe8",
   "metadata": {},
   "source": [
    "<div class=\"alert alert-info\">\n",
    "<strong>Remark:</strong>\n",
    "In the original Table V (Angrist and Lavy, <a href=\"#Angrist_1999\" class=\"link\">1999</a>, p. 556), the mean score and standard deviation of the math test for the full sample are those of the 5th graders. Also, in column (8) the enrollment coefficient should not have a minus in front. \n",
    "</div>"
   ]
  },
  {
   "cell_type": "markdown",
   "id": "1e3960d8",
   "metadata": {},
   "source": [
    "An interesting question is whether the benefits of smaller classes are more associated with certain types of students.\n",
    "One existing theory says that class size reductions are more effective for disadvantaged students.\n",
    "This question is also particularly of practical relevance.\n",
    "Given the high costs of CSR programs, it is desirable to identify and target the student groups or class compositions that have the highest treatment effect.\n",
    "\n",
    "Table [VII](#table7), therefore, lists 2SLS estimates with percent disadvantaged interaction terms where f$_{sc}$<span>&#42;</span>PD serves as a second instrument.\n",
    "Besides grade-specific estimates, Angrist and Lavy ([1999](#Angrist_1999)) compute pooled estimates for increased precision.\n",
    "The interaction coefficient for the single grades in columns (1) to (4) is always negative (although significant for 5th graders only).\n",
    "The correlation is stronger for the fifth grade.\n",
    "Pooled estimates without interaction term yield a relatively strong main effect that is also statistically different from zero for math.\n",
    "If the interaction class size<span>&#42;</span>PD is included, the main coefficient for the math test shrinks to near zero while the interaction term comes out as significant.\n",
    "Note that, in contrast to Angrist and Lavy ([1999](#Angrist_1999)), our cluster adjustment makes the estimated interaction coefficient for reading (marginally) insignificant (column (6)).\n",
    "\n",
    "Overall, the estimates suggest that the gains from small classes are largest for students from disadvantaged backgrounds."
   ]
  },
  {
   "cell_type": "markdown",
   "id": "71132ba0",
   "metadata": {},
   "source": [
    "<a id=\"table7\"></a>\n",
    "<center>TABLE VII <br> Pooled Estimates and Models with Percent Disadvantaged Interaction Terms</center>"
   ]
  },
  {
   "cell_type": "code",
   "execution_count": 15,
   "id": "16a0126a",
   "metadata": {},
   "outputs": [
    {
     "data": {
      "text/html": [
       "\n",
       "<table style=\"text-align:center\"><tr><td colspan=\"9\" style=\"border-bottom: 1px solid black\"></td></tr><tr><td style=\"text-align:left\"></td><td colspan=\"2\"><center>5th grade</center></td><td colspan=\"2\"><center>4th grade</center></td><td colspan=\"4\"><center>Pooled estimates</center></td></tr>\n",
       "<tr><td style=\"text-align:left\"></td><td>Reading</td><td>Math</td><td>Reading</td><td>Math</td><td colspan=\"2\"><center>Reading</center></td><td colspan=\"2\"><center>Math</center></td></tr>\n",
       "<tr><td style=\"text-align:left\"></td><td>(1)</td><td>(2)</td><td>(3)</td><td>(4)</td><td>(5)</td><td>(6)</td><td>(7)</td><td>(8)</td></tr>\n",
       "<tr><td colspan=\"9\" style=\"border-bottom: 1px solid black\"></td></tr><tr><td style=\"text-align:left\">Class size</td><td>-.157</td><td>-.082</td><td>-.101</td><td>.019</td><td>-.197</td><td>-.121</td><td>-.128</td><td>-.020</td></tr>\n",
       "<tr><td style=\"text-align:left\"></td><td>(.072)</td><td>(.104)</td><td>(.065)</td><td>(.082)</td><td>(.051)</td><td>(.053)</td><td>(.065)</td><td>(.070)</td></tr>\n",
       "<tr><td style=\"text-align:left\">Percent disadvantaged</td><td>-.162</td><td>-.092</td><td>-.288</td><td>-.162</td><td>-.355</td><td>-.222</td><td>-.315</td><td>-.126</td></tr>\n",
       "<tr><td style=\"text-align:left\"></td><td>(.096)</td><td>(.113)</td><td>(.084)</td><td>(.099)</td><td>(.014)</td><td>(.072)</td><td>(.016)</td><td>(.088)</td></tr>\n",
       "<tr><td style=\"text-align:left\">Grade 4</td><td></td><td></td><td></td><td></td><td>-1.931</td><td>-1.896</td><td>1.512</td><td>1.561</td></tr>\n",
       "<tr><td style=\"text-align:left\"></td><td></td><td></td><td></td><td></td><td>(.163)</td><td>(.165)</td><td>(.214)</td><td>(.215)</td></tr>\n",
       "<tr><td style=\"text-align:left\">Enrollment</td><td>.019</td><td>.036</td><td>.004</td><td>.018</td><td>.013</td><td>.010</td><td>.029</td><td>.026</td></tr>\n",
       "<tr><td style=\"text-align:left\"></td><td>(.009)</td><td>(.011)</td><td>(.008)</td><td>(.009)</td><td>(.007)</td><td>(.007)</td><td>(.008)</td><td>(.008)</td></tr>\n",
       "<tr><td style=\"text-align:left\">Class size*PD</td><td>-.008</td><td>-.010</td><td>-.002</td><td>-.005</td><td></td><td>-.005</td><td></td><td>-.007</td></tr>\n",
       "<tr><td style=\"text-align:left\"></td><td>(.004)</td><td>(.005)</td><td>(.003)</td><td>(.004)</td><td></td><td>(.003)</td><td></td><td>(.003)</td></tr>\n",
       "<tr><td colspan=\"9\" style=\"border-bottom: 1px solid black\"></td></tr><tr><td style=\"text-align:left\">Root MSE</td><td>6.26</td><td>8.43</td><td>6.65</td><td>7.81</td><td>6.44</td><td>6.44</td><td>8.1</td><td>8.11</td></tr>\n",
       "<tr><td style=\"text-align:left\">N</td><td>2018</td><td>2018</td><td>2049</td><td>2049</td><td>4067</td><td>4067</td><td>4067</td><td>4067</td></tr>\n",
       "<tr><td colspan=\"9\" style=\"border-bottom: 1px solid black\"></td></tr><tr><td colspan=\"9\" style=\"text-align:left\">Standard errors (in parantheses) were corrected for within-school correlation between classes. All estimates use f<sub>sc</sub> and f<sub>sc</sub>*PD as instruments for class size and class size*PD.</td></tr>\n",
       "</table>"
      ]
     },
     "metadata": {},
     "output_type": "display_data"
    }
   ],
   "source": [
    "table7(data_4th = grade4, data_5th = grade5_reg)"
   ]
  },
  {
   "cell_type": "markdown",
   "id": "02c1973b",
   "metadata": {},
   "source": [
    "<a id=\"Maimonides_rule_redux\"></a>\n",
    "***\n",
    "## 6 Maimonides' rule redux\n",
    "***"
   ]
  },
  {
   "cell_type": "markdown",
   "id": "afb04cb5",
   "metadata": {},
   "source": [
    "This section is concerned with the validity of the identification strategy and hence the reliability of the estimated results.\n",
    "As sketched in the alternative causal graph (Figure [EXT_2b](#figure2_EXTb)), Maimonides' rule might be correlated with unobservables that are themselves related to test scores.\n",
    "In that case, predicted class size no longer constitutes a valid IV and a causal interpretation of the class size estimates is not possible (since it is not clear which proportion of the achievement variation is due to class size changes).\n",
    "Such correlations can originate from manipulative behavior of involved stakeholders who exploit the statutory class size caps resulting in manipulated enrollment (\"manipulation of the running variable\").\n",
    "\n",
    "Angrist and Lavy ([1999](#Angrist_1999)) assume that enrollment manipulation is not a real concern.\n",
    "They argue that it is not possible for parents to predict enrollment at the time school starts (e. g., enrollment of 41 may drop to 39).\n",
    "And even if, Israeli pupils in general must attend a neighborhood school (Angrist and Lavy, [1999](#Angrist_1999), p. 542).\n",
    "Thus, parents would have to move to another school district or opt for private schooling.\n",
    "However, Otsu et al. ([2013](#Otsu_2013), Section 5) provide evidence for sorting around the first Maimonides cutoff.\n",
    "There appear to be too many schools with enrollment just above 40, producing two classes.\n",
    "Angrist and Lavy ([1999](#Angrist_1999)) focus on parents' behavior as a source of manipulation and do not take teachers and school officials into account.\n",
    "\n",
    "In a recently published paper (\"Maimonides' rule redux\", [2019](#Angrist_2019)) Angrist et al. revisit the original results to address the manipulation concern raised by Otsu et al. ([2013](#Otsu_2013)).\n",
    "Moreover, they conduct a similar analysis for a more recent (2002–2011) and larger sample of Israeli fifth graders.\n",
    "The analysis yields two main findings.\n",
    "First, the new data reveal enrollment manipulation near cutoffs.\n",
    "Second, 2SLS estimates show no evidence of class size effects (precisely estimated zeros), regardless of whether originally reported enrollment or corrected enrollment is used.\n",
    "In the latter case, enrollment is imputed based on information on grade-eligible birthdates.\n",
    "Both findings challenge the substantial negative class size effects from 1991.\n",
    "\n",
    "Angrist et al. ([2019](#Angrist_2019), p. 310) mention an intuitive explanation for the enrollment observation, namely financially-motivated manipulation by school officials:\n",
    "\n",
    "> A memo from Israeli Ministry of Education (MOE) officials to school leaders cautions headmasters against attempts to increase staffing ratios through enrollment manipulation. In particular, schools are warned not to move students between grades or to enroll those abroad in order to produce an additional class. [...] MOE rules that determine school budgets as an increasing function of the number of classes also reward this sort of manipulation.\n",
    "\n",
    "Figure [MRR_A6](#figureA6_panelA_MRR) displays the distribution of grade enrollment (the running variable) as reported by school principals at the beginning of the school year.\n",
    "Indeed, for both grades we see evidence of a jump in the distribution at the first cutoff.\n",
    "The gap below the Maimonides threshold is more pronounced for the fourth graders.\n",
    "Furthermore, only the first cutoff seems to be affected."
   ]
  },
  {
   "cell_type": "code",
   "execution_count": 16,
   "id": "5803c75f",
   "metadata": {},
   "outputs": [],
   "source": [
    "# figureA6_panelA_MRR()"
   ]
  },
  {
   "cell_type": "markdown",
   "id": "2dec4cfc",
   "metadata": {},
   "source": [
    "<figure>\n",
    "<center>\n",
    "    <img src=\"materials/figures/figureA6_panelA_MRR.png\" width=\"1000\" />\n",
    "    <figcaption>FIGURE MRR_A6 <br>\n",
    "        Distribution of 4th and 5th Grade Enrollment as Reported by School Headmasters at the Beginning of the 1990–91 School           Year\n",
    "    </figcaption>\n",
    "<a id=\"figureA6_panelA_MRR\"></a>"
   ]
  },
  {
   "cell_type": "markdown",
   "id": "907186c5",
   "metadata": {},
   "source": [
    "<p style=\"padding: 10px; border: 1px solid black;\">\n",
    "<strong>Note:</strong>\n",
    "In contrast to Angrist et al. (<a href=\"#Angrist_2018\" class=\"link\">2018</a>), our histograms rely on the cleaned data.\n",
    "</p>"
   ]
  },
  {
   "cell_type": "markdown",
   "id": "642973a7",
   "metadata": {},
   "source": [
    "Figure [EXT_4](#figure4_EXT) plots density estimates allowing for a discontinuity at 41.\n",
    "The underlying local polynomial density estimator was proposed in Cattaneo et al. ([2020](#Cattaneo_2020)).\n",
    "For both grades a clear difference in the estimated densities on the two sides of the cutoff is visible.\n",
    "However, the corresponding density discontinuity test of Cattaneo et al. does not classify the discontinuity as significant due to the estimated large standard error (the test is similar to the McCrary ([2008](#McCrary_2008)) test applied by Angrist et al. ([2019](#Angrist_2019)), but has some better statistical properties)."
   ]
  },
  {
   "cell_type": "code",
   "execution_count": 17,
   "id": "33070a1c",
   "metadata": {},
   "outputs": [],
   "source": [
    "# figure4_EXT()"
   ]
  },
  {
   "cell_type": "markdown",
   "id": "b6e709ea",
   "metadata": {},
   "source": [
    "<figure>\n",
    "<center>\n",
    "    <img src=\"materials/figures/figure4_EXT.png\" width=\"1000\" />\n",
    "    <figcaption>FIGURE EXT_4 <br>\n",
    "        Densities Generating Cattaneo et al. (<a href=\"#Cattaneo_2020\" class=\"link\">2020</a>) Tests for Discontinuities at 41 \n",
    "    </figcaption>\n",
    "<a id=\"figure4_EXT\"></a>"
   ]
  },
  {
   "cell_type": "markdown",
   "id": "313f6f32",
   "metadata": {},
   "source": [
    "<p style=\"padding: 10px; border: 1px solid black;\">\n",
    "<strong>Note:</strong>\n",
    "The confidence intervals are not centered at the point estimates because they have been bias-corrected. For small enrollment the density point estimates lie outside the confidence intervals as the enrollment distribution exhibits high curvature there. Details are provided in Cattaneo et al. (<a href=\"#Cattaneo_2021\" class=\"link\">2021</a>).    \n",
    "</p>"
   ]
  },
  {
   "cell_type": "markdown",
   "id": "a54bd5cf",
   "metadata": {},
   "source": [
    "The revealed enrollment manipulation does not automatically translate into problems with the Maimonides instrument.\n",
    "According to Gerard et al. ([2020](#Gerard_2020)), this sorting is innocuous in our application if the students affected by the headmasters' manipulation are similar to those unaffected.\n",
    "This would be violated if, for example, more sophisticated school leaders, with on average more able children enrolled in their school, engage more often in manipulation (Angrist et al., [2019](#Angrist_2019), p. 316).\n",
    "To investigate systematic enrollment sorting, Table [MRR_3](#table3_MRR) presents OLS regression estimates of the PD index on the class size function induced by Maimonides' rule.\n",
    "Overall, the estimates do not suggest a clear relationship.\n",
    "Estimates for the fifth grade are negative, whereas estimates for the fourth grade are positive.\n",
    "All estimates are far away from being significant."
   ]
  },
  {
   "cell_type": "markdown",
   "id": "002f82dd",
   "metadata": {},
   "source": [
    "<a id=\"table3_MRR\"></a>\n",
    "<center>TABLE MRR_3 <br> Maimonides' Rule Effects on Socioeconomic Status</center>"
   ]
  },
  {
   "cell_type": "code",
   "execution_count": 18,
   "id": "706b6624",
   "metadata": {},
   "outputs": [
    {
     "data": {
      "text/html": [
       "\n",
       "<table style=\"text-align:center\"><tr><td colspan=\"7\" style=\"border-bottom: 1px solid black\"></td></tr><tr><td style=\"text-align:left\"></td><td colspan=\"6\"><center>Percent disadvantaged</center></td></tr>\n",
       "<tr><td></td><td colspan=\"6\" style=\"border-bottom: 1px solid black\"></td></tr>\n",
       "<tr><td style=\"text-align:left\"></td><td colspan=\"3\"><center>Fifth grade</center></td><td colspan=\"3\"><center>Fourth grade</center></td></tr>\n",
       "<tr><td style=\"text-align:left\"></td><td>(1)</td><td>(2)</td><td>(3)</td><td>(4)</td><td>(5)</td><td>(6)</td></tr>\n",
       "<tr><td colspan=\"7\" style=\"border-bottom: 1px solid black\"></td></tr><tr><td style=\"text-align:left\">f<sub>sc</sub></td><td>-0.0592</td><td>-0.0686</td><td>-0.0709</td><td>0.0532</td><td>0.0636</td><td>0.0718</td></tr>\n",
       "<tr><td style=\"text-align:left\"></td><td>(0.0784)</td><td>(0.0848)</td><td>(0.0865)</td><td>(0.0810)</td><td>(0.0878)</td><td>(0.0894)</td></tr>\n",
       "<tr><td style=\"text-align:left\">Enrollment</td><td>-0.0598</td><td>-0.0475</td><td></td><td>-0.0691</td><td>-0.0824</td><td></td></tr>\n",
       "<tr><td style=\"text-align:left\"></td><td>(0.0152)</td><td>(0.0448)</td><td></td><td>(0.0155)</td><td>(0.0461)</td><td></td></tr>\n",
       "<tr><td style=\"text-align:left\">Enrollment squared/100</td><td></td><td>-0.0068</td><td></td><td></td><td>0.0076</td><td></td></tr>\n",
       "<tr><td style=\"text-align:left\"></td><td></td><td>(0.0235)</td><td></td><td></td><td>(0.0248)</td><td></td></tr>\n",
       "<tr><td style=\"text-align:left\">Piecewise linear trend</td><td></td><td></td><td>-0.1010</td><td></td><td></td><td>-0.1332</td></tr>\n",
       "<tr><td style=\"text-align:left\"></td><td></td><td></td><td>(0.0350)</td><td></td><td></td><td>(0.0349)</td></tr>\n",
       "<tr><td colspan=\"7\" style=\"border-bottom: 1px solid black\"></td></tr><tr><td style=\"text-align:left\">Observations</td><td>1,002</td><td>1,002</td><td>990</td><td>1,013</td><td>1,013</td><td>1,003</td></tr>\n",
       "<tr><td colspan=\"7\" style=\"border-bottom: 1px solid black\"></td></tr><tr><td colspan=\"7\" style=\"text-align:left\">This table reports OLS estimates. The unit of analysis is the school.</td></tr>\n",
       "</table>"
      ]
     },
     "metadata": {},
     "output_type": "display_data"
    }
   ],
   "source": [
    "table3_MRR(data_4th = grade4, data_5th = grade5)"
   ]
  },
  {
   "cell_type": "markdown",
   "id": "bca781ed",
   "metadata": {},
   "source": [
    "<p style=\"padding: 10px; border: 1px solid black;\">\n",
    "<strong>Note:</strong>\n",
    "All regressions in Table <a href=\"#table3_MRR\" class=\"link\">MRR_3</a> also include the school type (secular or religious) as an explanatory variable. The share of students from a disadvantaged background is considerably higher for religious schools.    \n",
    "</p>"
   ]
  },
  {
   "cell_type": "markdown",
   "id": "a0792f31",
   "metadata": {},
   "source": [
    "We can also approach the question graphically.\n",
    "Figure [EXT_5](#figure5_EXT) plots residuals from regressions of the PD index and predicted class sizes on enrollment and school type (secular or religious) for intervals of ten, as was done in Figure [III](#figure3).\n",
    "In Panel a for the fifth grade we can recognize a mirror-image-like linkage for an enrollment between 45 and 125.\n",
    "This is in line with the estimated negative coefficient from Table [MRR_3](#table3_MRR).\n",
    "Panel b does not show any relationship."
   ]
  },
  {
   "cell_type": "code",
   "execution_count": 19,
   "id": "d1f39967",
   "metadata": {},
   "outputs": [],
   "source": [
    "# figure5_EXT()"
   ]
  },
  {
   "cell_type": "markdown",
   "id": "492042d7",
   "metadata": {},
   "source": [
    "<figure>\n",
    "<center>\n",
    "    <img src=\"materials/figures/figure5_EXT.png\" width=\"800\" />\n",
    "    <figcaption>FIGURE EXT_5 <br>\n",
    "        Percent Disadvantaged and Predicted Class Size by Enrollment, <br>                                                             Residuals from Regressions on Enrollment and School Type\n",
    "    </figcaption>\n",
    "<a id=\"figure5_EXT\"></a>"
   ]
  },
  {
   "cell_type": "markdown",
   "id": "e843591e",
   "metadata": {},
   "source": [
    "Even though the last results indicate that pupils are rather randomly affected by the enrollment manipulation, ideally, we would like to exclude the manipulation from the estimations.\n",
    "However, an enrollment imputation as performed in Angrist et al. ([2019](#Angrist_2019)) is not feasible because individual data are not available.\n",
    "Instead, as an alternative robustness check the authors apply a donut estimation procedure.\n",
    "That is, data in a certain range around the first Maimonides cutoff are omitted for the estimation.\n",
    "These estimates in Table [MRR_A6](#tableA6_MRR) compared to the estimates from Table [IV](#table4) and Table [V](#table5) are overall slightly smaller and less precise.\n",
    "But essentially the original results are unchanged."
   ]
  },
  {
   "cell_type": "markdown",
   "id": "c9078a2c",
   "metadata": {},
   "source": [
    "<a id=\"tableA6_MRR\"></a>\n",
    "<center>TABLE MRR_A6 <br> 2SLS Donuts</center>"
   ]
  },
  {
   "cell_type": "markdown",
   "id": "e69f7f3d",
   "metadata": {},
   "source": [
    "<table style=\"text-align:center\"><tr><td colspan=\"5\" style=\"border-bottom: 1px solid black\"></td></tr><tr><td style=\"text-align:left\"></td><td colspan=\"2\">Language</td><td colspan=\"2\">Math</td></tr>\n",
    "<tr><td style=\"text-align:left\"></td><td>(1)</td><td>(2)</td><td>(3)</td><td>(4)</td></tr>\n",
    "<tr><td colspan=\"5\" style=\"border-bottom: 1px solid black\"></td></tr><tr><td style=\"text-align:left\"><b>Panel A. 5th Grade</b></td><td></td><td></td><td></td><td></td></tr>\n",
    "<tr><td style=\"text-align:left\">Donut: [39, 41]</td><td>-0.2341</td><td>-0.2010</td><td>-0.1947</td><td>-0.2144</td></tr>\n",
    "<tr><td style=\"text-align:left\"></td><td>(0.0762)</td><td>(0.0954)</td><td>(0.1018)</td><td>(0.1306)</td></tr>\n",
    "<tr><td style=\"text-align:left\">Donut: [38, 42]</td><td>-0.2406</td><td>-0.2072</td><td>-0.2000</td><td>-0.2213</td></tr>\n",
    "<tr><td style=\"text-align:left\"></td><td>(0.0776)</td><td>(0.0987)</td><td>(0.1044)</td><td>(0.1368)</td></tr>\n",
    "<tr><td style=\"text-align:left\">Donut: [37, 43]</td><td>-0.2152</td><td>-0.1696</td><td>-0.1930</td><td>-0.2024</td></tr>\n",
    "<tr><td style=\"text-align:left\"></td><td>(0.0777)</td><td>(0.0991)</td><td>(0.1054)</td><td>(0.1388)</td></tr>\n",
    "<tr><td style=\"text-align:left\"><b>Panel B. 4th Grade</b></td><td></td><td></td><td></td><td></td></tr>\n",
    "<tr><td style=\"text-align:left\">Donut: [39, 41]</td><td>-0.1267</td><td>-0.0581</td><td>-0.0544</td><td>-0.0353</td></tr>\n",
    "<tr><td style=\"text-align:left\"></td><td>(0.0612)</td><td>(0.0690)</td><td>(0.0749)</td><td>(0.0858)</td></tr>\n",
    "<tr><td style=\"text-align:left\">Donut: [38, 42]</td><td>-0.1187</td><td>-0.0431</td><td>-0.0438</td><td>-0.0208</td></tr>\n",
    "<tr><td style=\"text-align:left\"></td><td>(0.0632)</td><td>(0.0719)</td><td>(0.0775)</td><td>(0.0899)</td></tr>\n",
    "<tr><td style=\"text-align:left\">Donut: [37, 43]</td><td>-0.1166</td><td>-0.0390</td><td>-0.0467</td><td>-0.0227</td></tr>\n",
    "<tr><td style=\"text-align:left\"></td><td>(0.0649)</td><td>(0.0743)</td><td>(0.0794)</td><td>(0.0927)</td></tr>\n",
    "<tr><td colspan=\"5\" style=\"border-bottom: 1px solid black\"></td></tr><tr><td style=\"text-align:left\">Percent Disadvantaged</td><td>X</td><td>X</td><td>X</td><td>X</td></tr>\n",
    "<tr><td style=\"text-align:left\">Enrollment</td><td>X</td><td>X</td><td>X</td><td>X</td></tr>\n",
    "<tr><td style=\"text-align:left\">Enrollment Squared/100</td><td></td><td>X</td><td></td><td>X</td></tr>\n",
    "<tr><td colspan=\"5\" style=\"border-bottom: 1px solid black\"></td></tr><tr><td colspan=\"5\" style=\"text-align:left\">This table reports 2SLS estimates of class size effects omitting data in the intervals indicated. <br> Standard errors are clustered by school.</td></tr>\n",
    "</table>"
   ]
  },
  {
   "cell_type": "code",
   "execution_count": 20,
   "id": "e9cc480f",
   "metadata": {},
   "outputs": [],
   "source": [
    "# The following function calls return the estimated coefficients and standard errors.\n",
    "# The above table, however, is created manually (for formatting reasons).\n",
    "\n",
    "# tableA6_MRR(data = grade5)\n",
    "# tableA6_MRR(data = grade4)"
   ]
  },
  {
   "cell_type": "markdown",
   "id": "b7bdb449",
   "metadata": {},
   "source": [
    "Taken all parts of this section together, the present enrollment manipulation around the first cutoff does not seem to be a source of bias and thus a threat to the applied identification strategy using Maimonides' rule as an instrument for class size.\n",
    "The same conclusion is drawn by Arai et al. ([2021](#Arai_2021), Section 5) based on a formal test to assess the validity of a fuzzy RDD.\n",
    "Angrist et al. ([2019](#Angrist_2019)) hypothesize that the absence of class size effects in the new data is grounded on a change in the education production function. "
   ]
  },
  {
   "cell_type": "markdown",
   "id": "e3b756b4",
   "metadata": {},
   "source": [
    "<a id=\"Critical_assessment_and_conclusion\"></a>\n",
    "***\n",
    "## 7 Critical assessment and conclusion\n",
    "***"
   ]
  },
  {
   "cell_type": "markdown",
   "id": "59f42c6e",
   "metadata": {},
   "source": [
    "In this project we successfully replicated core results of the paper by Angrist and Lavy ([1999](#Angrist_1999)).\n",
    "The authors analyze the effect of class size on reading and math test scores for Israeli elementary students.\n",
    "To identify the causal effect, variation in the enrollment-class-size relationship, created by an institutional rule (Maimonides' rule) that caps classes at size 40, is exploited.\n",
    "2SLS instrumental variable estimates find positive effects on class size reductions.\n",
    "Effects are largest for 5th graders (on both tests) and more modest for the reading scores of 4th graders.\n",
    "The math scores provide little evidence of an association and are not significant.\n",
    "However, pooled estimates turn out to be significant on both tests.\n",
    "Compared to the effect sizes found in the famous Tennessee STAR experiment the estimates are at the lower end.\n",
    "In a follow-up paper the authors revisit the original results to check their credibility since newer precise estimates suggest no association and researchers revealed enrollment manipulation in the old data.\n",
    "The re-analysis supports the earlier causal interpretations.\n",
    "\n",
    "We extended the paper mainly in terms of supportive visualization and robustness checks.\n",
    "The visualization of the authors' identification strategy and a major potential concern using causal graphs might be particularly helpful for interested readers.\n",
    "Relevant parts of the \"Maimonides' rule redux\" ([2019](#Angrist_2019)) paper are replicated and connected to the original paper.\n",
    "In addition, we replaced original standard error estimates with estimates from a more modern cluster adjustment approach.\n",
    "The new standard errors are generally close but slightly larger.\n",
    "On balance, our contributions second the findings and validity of the Maimonides identification strategy.\n",
    "\n",
    "The paper by Angrist and Lavy ([1999](#Angrist_1999)) has been highly influential in the economics of education literature.\n",
    "Many countries set their class sizes to conform to some version of Maimonides' rule.\n",
    "That said, a Maimonides research design has been applied by different scholars over the last two decades.\n",
    "For example, in France by Gary-Bobo and Mahjoub ([2013](#Gary-Bobo_2013)), in Poland by Jakubowski and Sakowski ([2006](#Jakubowski_2006)) or in Bolivia by Urquiola ([2006](#Urquiola_2006)).\n",
    "The identification strategy used by Angrist and Lavy ([1999](#Angrist_1999)) is unusual but at the same time clear and simple, leading naturally to 2SLS estimation.\n",
    "Methodologically, the study provides an example of how a fuzzy regression discontinuity can be analyzed in an IV framework.\n",
    "It is also worth to acknowledge that the authors revisit the results 20 years later to check their robustness thoroughly.\n",
    "\n",
    "One limitation of the original paper is that manipulation of the running variable (grade enrollment) is only considered verbally and from the parents' perspective.\n",
    "Consequently, the authors fail to detect the manipulation at the first cutoff.\n",
    "Besides, as also acknowledged (Angrist and Lavy, [1999](#Angrist_1999), Section VI), the estimated effects are likely not one-to-one transferable to other countries because Israeli classes are large.\n",
    "The mean class size in the data is 30 with ten percent of classes having more than 37 pupils.\n",
    "Meta-results for Europe are weak and insignificant (e. g., Wößmann ([2005](#Wößmann_2005)) and Shen and Konstantopoulos ([2017](#Shen_2017))).\n",
    "Lastly, it appeared very reasonable to exclude the third graders from most of the analysis and interpretation.\n",
    "A formal investigation of a possible structural difference in the 3rd graders' test scores, unfortunately, cannot be undertaken as the test program only existed for the two years (1991–1992) and was then abandoned for political reasons.\n",
    "In hindsight, equipped with the new estimates from Angrist et al. ([2019](#Angrist_2019)), the zero-effect estimates for the third grade are noteworthy.\n",
    "\n",
    "Still, Angrist and Lavy ([1999](#Angrist_1999)) constitutes a seminal paper that majorly contributed to the CSR literature.\n",
    "The authors pioneered the use of legislative class size ceilings as a potential source of exogenous variation to credibly determine the causal effect of class size changes.\n",
    "This led to plenty of subsequent research.\n",
    "\n",
    "A possibly interesting future research direction is to study the effect of class size on academic achievement if teaching is conducted remotely. In particular, in which ways exactly a change in class size may impact on the performance compared to classroom teaching."
   ]
  },
  {
   "cell_type": "markdown",
   "id": "24cf38d9-d751-4783-84ac-11bf965544f3",
   "metadata": {},
   "source": [
    "<a id=\"Appendix\"></a>\n",
    "***\n",
    "## Appendix\n",
    "***"
   ]
  },
  {
   "cell_type": "markdown",
   "id": "8162f8a4",
   "metadata": {},
   "source": [
    "<a id=\"Appendix_1\"></a>\n",
    "### Appendix 1: 3rd grade"
   ]
  },
  {
   "cell_type": "markdown",
   "id": "af6aba2c",
   "metadata": {},
   "source": [
    "Angrist and Lavy ([1999](#Angrist_1999)) exclude the third graders from the main part of their study.\n",
    "They hypothesize that specific test preparation reduced the information about pupils' abilities in the scores and therefore class size effects are absent.\n",
    "\n",
    "A comparison of the descriptive statistics between the grades shows that for both tests mean scores are substantially higher (see Figure [EXT_A1](#figureA1_EXT)) and standard deviations are lower for the third grade classes.\n",
    "For example, the overall mean math score is more than 15 points higher.\n",
    "Particularly striking is that 25% of all classes have a reading score of at least 90 (89 points for math)."
   ]
  },
  {
   "cell_type": "markdown",
   "id": "0f7b4f76",
   "metadata": {},
   "source": [
    "<center>TABLE I <br> Unweighted Descriptive Statistics</center>\n",
    "\n",
    "<table style=\"text-align:center\"><caption><strong>3rd grade: 2111 classes, 1011 schools, tested in 1992</strong></caption>\n",
    "<tr><td colspan=\"8\" style=\"border-bottom: 1px solid black\"></td></tr><tr><td style=\"text-align:left\">Variable</td><td>Mean</td><td>S.D.</td><td>0.10</td><td>0.25</td><td>0.50</td><td>0.75</td><td>0.90</td></tr>\n",
    "<tr><td colspan=\"8\" style=\"border-bottom: 1px solid black\"></td></tr><tr><td style=\"text-align:left\">Class Size</td><td>30.5</td><td>6.2</td><td>22</td><td>26</td><td>31</td><td>35</td><td>38</td></tr>\n",
    "<tr><td style=\"text-align:left\">Enrollment</td><td>79.6</td><td>37.3</td><td>34</td><td>52</td><td>74</td><td>104</td><td>129</td></tr>\n",
    "<tr><td style=\"text-align:left\">Percent disadvantaged</td><td>13.8</td><td>13.4</td><td>2</td><td>4</td><td>9</td><td>19</td><td>35</td></tr>\n",
    "<tr><td style=\"text-align:left\">Reading size</td><td>24.5</td><td>5.4</td><td>17</td><td>21</td><td>25</td><td>29</td><td>31</td></tr>\n",
    "<tr><td style=\"text-align:left\">Math size</td><td>24.7</td><td>5.4</td><td>18</td><td>21</td><td>25</td><td>29</td><td>31</td></tr>\n",
    "<tr><td style=\"text-align:left\">Average verbal</td><td>86.3</td><td>6.1</td><td>78.4</td><td>83.0</td><td>87.2</td><td>90.7</td><td>93.1</td></tr>\n",
    "<tr><td style=\"text-align:left\">Average math</td><td>84.1</td><td>6.8</td><td>75.0</td><td>80.2</td><td>84.7</td><td>89.0</td><td>91.9</td></tr>\n",
    "<tr><td colspan=\"8\" style=\"border-bottom: 1px solid black\"></td></tr>\n",
    "<tr><td colspan=\"9\" style=\"text-align:left\">Note: All values are copied from Angrist and Lavy (<a href=\"#Angrist_1999\" class=\"link\">1999</a>), no replication.</td></tr>\n",
    "</table>"
   ]
  },
  {
   "cell_type": "code",
   "execution_count": 21,
   "id": "df12664a",
   "metadata": {},
   "outputs": [],
   "source": [
    "# figureA1_EXT()"
   ]
  },
  {
   "cell_type": "markdown",
   "id": "35be2743",
   "metadata": {},
   "source": [
    "<figure>\n",
    "<center>\n",
    "    <img src=\"materials/figures/figureA1_EXT.png\" width=\"600\" />\n",
    "    <figcaption>FIGURE EXT_A1 <br>\n",
    "        Average of the Classes' Test Scores in Math and Reading Compared between 3rd, 4th and 5th Graders\n",
    "    </figcaption>\n",
    "<a id=\"figureA1_EXT\"></a>"
   ]
  },
  {
   "cell_type": "markdown",
   "id": "07ce49e0",
   "metadata": {},
   "source": [
    "Table VIII reports estimates for the effect of class size for third graders.\n",
    "The estimates provide essentially no evidence of an association between class size and achievement of any kind.\n",
    "IV estimates are negative but small and statistically insignificant.\n",
    "Yet, in column (1) we see that Maimonides' rule yields a strong first stage."
   ]
  },
  {
   "cell_type": "markdown",
   "id": "85e0d123",
   "metadata": {},
   "source": [
    "<img src=\"materials/tables/table8.png\" width=\"600\" />"
   ]
  },
  {
   "cell_type": "markdown",
   "id": "f48a8cf5",
   "metadata": {},
   "source": [
    "A plausible explanation for the findings is that testing preparation and conditions were quite different for third graders.\n",
    "For instance, on test days regular class teachers and an external exam proctor were present (Angrist and Lavy, [1999](#Angrist_1999), p. 563).\n",
    "The systematic test preparation effort (\"intense remedial effort\") is also documented in a report of the National Center for Education Feedback from 1993 (Angrist and Lavy, [1999](#Angrist_1999), footnote 20)."
   ]
  },
  {
   "cell_type": "markdown",
   "id": "1598a2ea",
   "metadata": {},
   "source": [
    "<a id=\"Appendix_2\"></a>\n",
    "### Appendix 2"
   ]
  },
  {
   "cell_type": "code",
   "execution_count": 22,
   "id": "6384b44e",
   "metadata": {},
   "outputs": [],
   "source": [
    "# figureA2_EXT()"
   ]
  },
  {
   "cell_type": "markdown",
   "id": "1fb2e139",
   "metadata": {},
   "source": [
    "<figure>\n",
    "<center>\n",
    "    <img src=\"materials/figures/figureA2_EXT.png\" width=\"800\" />\n",
    "    <figcaption>FIGURE EXT_A2 <br>\n",
    "        Average Math Test Score and Predicted Class Size by Enrollment for the Fourth Grade, <br>                                       Residuals from Regressions on Percent Disadvantaged and Enrollment\n",
    "    </figcaption>\n",
    "<a id=\"figureA2_EXT\"></a>"
   ]
  },
  {
   "cell_type": "markdown",
   "id": "0eda07fd-6eb7-4f2e-bd2f-71b2a6b153b9",
   "metadata": {},
   "source": [
    "<a id=\"References\"></a>\n",
    "***\n",
    "## References\n",
    "***"
   ]
  },
  {
   "cell_type": "markdown",
   "id": "5f7ec772-2983-4999-a270-a3860f8beb83",
   "metadata": {},
   "source": [
    "<a id=\"Angrist_1999\"></a>\n",
    "Angrist, J. and V. Lavy (1999). \"Using Maimonides' rule to estimate the effect of class size on scholastic achievement\". *The Quarterly Journal of Economics* 114 (2), pp. 533–575.\n",
    "\n",
    "<a id=\"Angrist_2019\"></a>\n",
    "Angrist, J., V. Lavy, J. Leder-Luis and A. Shany (2019). \"Maimonides' rule redux\". *American Economic Review: Insights* 1 (3), pp. 309–324.\n",
    "\n",
    "<a id=\"Angrist_2018\"></a>\n",
    "Angrist, J., V. Lavy, J. Leder-Luis and A. Shany (2018). \"Maimonides' rule redux: Online appendix\". [doi.org/10.1257/aeri.20180120](https://doi.org/10.1257/aeri.20180120)\n",
    "\n",
    "<a id=\"Angrist_2009\"></a>\n",
    "Angrist, J. and J.-S. Pischke (2009). *Mostly Harmless Econometrics: An Empiricist's Companion*. New Jersey: Princeton University Press. \n",
    "\n",
    "<a id=\"Arai_2021\"></a>\n",
    "Arai, Y., Y.-C. Hsu, T. Kitagawa, I. Mourifié and Y. Wan (2021). \"Testing identifying assumptions in fuzzy regression discontinuity designs\". Working Paper (CWP16/21). [DOI: 10.47004/wp.cem.2021.1621](https://www.cemmap.ac.uk/wp-content/uploads/2021/03/CWP1621-Testing-identifying-assumptions-in-fuzzy-regression-discontinuity-designs.pdf) \n",
    "\n",
    "<a id=\"Cattaneo_2020\"></a>\n",
    "Cattaneo, M., M. Jansson and X. Ma (2020). \"Simple local polynomial density estimators\". *Journal of the American Statistical Association* 115 (531), pp. 1449–1455.\n",
    "\n",
    "<a id=\"Cattaneo_2021\"></a>\n",
    "Cattaneo, M., M. Jansson and X. Ma (2021). \"lpdensity: Local polynomial density estimation and inference\". *Journal of Statistical Software*, forthcoming.\n",
    "\n",
    "<a id=\"Chetty_2011\"></a>\n",
    "Chetty, R., J. Friedman, N. Hilger, E. Saez, D. Schanzenbach and D. Yagan (2011). \"How does your kindergarten classroom affect your earnings? Evidence from project STAR\". *The Quarterly Journal of Economics* 126 (4), pp. 1593–1660.\n",
    "\n",
    "<a id=\"Cohen-Zada_2013\"></a>\n",
    "Cohen-Zada, D., M. Gradstein and E. Reuven (2013). \"Allocation of students in public schools: Theory and new evidence\". *Economics of Education Review* 34 (3), pp. 96–106.\n",
    "\n",
    "<a id=\"Dobbelsteen_2002\"></a>\n",
    "Dobbelsteen, S., J. Levin and H. Oosterbeek (2002). \"The causal effect of class size on scholastic achievement: Distinguishing the pure class size effect from the effect of changes in class composition\". *Oxford Bulletin of Economics and Statistics* 64 (1), pp. 17–38.\n",
    "\n",
    "<a id=\"Feir_2016\"></a>\n",
    "Feir, D., T. Lemieux and V. Marmer (2016). \"Weak identification in fuzzy regression discontinuity designs\". *Journal of Business & Economic Statistics* 34 (2), pp. 185–196.\n",
    "\n",
    "<a id=\"Gary-Bobo_2013\"></a>\n",
    "Gary-Bobo, R. and M.-B. Mahjoub (2013). \"Estimation of class-size effects, using Maimonides' rule and other instruments: The case of French junior high schools\". *Annals of Economics and Statistics* 111/112, pp. 193–225.  \n",
    "\n",
    "<a id=\"Gerard_2020\"></a>\n",
    "Gerard, F., M. Rokkanen and C. Rothe (2020). \"Bounds on treatment effects in regression discontinuity designs with a manipulated running variable\". *Quantitative Economics* 11 (3), pp. 839–870.\n",
    "\n",
    "<a id=\"Hattie_2005\"></a>\n",
    "Hattie, J. (2005). \"The paradox of reducing class size and improving learning outcomes\". *International Journal of Educational Research* 43 (6), pp. 387–425.\n",
    "\n",
    "<a id=\"Hoxby_2000\"></a>\n",
    "Hoxby, C. (2000). \"The effects of class size on student achievement: New evidence from population variation\". *The Quarterly Journal of Economics* 115 (4), pp. 1239–1285.\n",
    "\n",
    "<a id=\"Jakubowski_2006\"></a>\n",
    "Jakubowski, M. and P. Sakowski (2006). \"Quasi-experimental estimates of class size effect in primary schools in Poland\". *International Journal of Educational Research* 45 (3), pp. 202–215. \n",
    "\n",
    "<a id=\"Jepsen_2009\"></a>\n",
    "Jepsen, C. and S. Rivkin (2009). \"Class size reduction and student achievement: The potential tradeoff between teacher quality and class size\". *The Journal of Human Resources* 44 (1), pp. 223–250.\n",
    "\n",
    "<a id=\"Krueger_1999\"></a>\n",
    "Krueger, A. (1999). \"Experimental estimates of education production functions\". *The Quarterly Journal of Economics* 114 (2), pp. 497–532.\n",
    "\n",
    "<a id=\"McCrary_2008\"></a>\n",
    "McCrary, J. (2008). \"Manipulation of the running variable in the regression discontinuity design: A density test\". *Journal of Econometrics* 142 (2), pp. 698–714.\n",
    "\n",
    "<a id=\"Morgan_2014\"></a>\n",
    "Morgan, S. and C. Winship (2014). *Counterfactuals and Causal Inference: Methods and Principles for Social Research*. New York: Cambridge University Press.\n",
    "\n",
    "<a id=\"Moulton_1986\"></a>\n",
    "Moulton, B. (1986). \"Random group effects and the precision of regression estimates\". *Journal of Econometrics* 32 (3), pp. 385–397.\n",
    "\n",
    "<a id=\"Otsu_2013\"></a>\n",
    "Otsu, T., K.-L. Xu and Y. Matsushita (2013). \"Estimation and inference of discontinuity in density\". *Journal of Business & Economic Statistics* 31 (4), pp. 507–524.\n",
    "\n",
    "<a id=\"Saifi_2011\"></a>\n",
    "Saifi, S. and T. Mehmood (2011). \"Effects of socioeconomic status on students achievement\". *International Journal of Social Sciences and Education* 1 (2), pp. 119–128.\n",
    "\n",
    "<a id=\"Shen_2017\"></a>\n",
    "Shen, T. and S. Konstantopoulos (2017). \"Class size effects on reading achievement in Europe: Evidence from PIRLS\". *Studies in Educational Evaluation* 53, pp. 98–114.\n",
    "\n",
    "<a id=\"Urquiola_2006\"></a>\n",
    "Urquiola, M. (2006). \"Identifying class size effects in developing countries: Evidence from rural Bolivia\". *Review of Economics and Statistics* 88 (1), pp. 171–177.\n",
    "\n",
    "<a id=\"Wößmann_2005\"></a>\n",
    "Wößmann, L. (2005). \"Educational production in Europe\". *Economic Policy* 20 (43), pp. 446–504."
   ]
  },
  {
   "cell_type": "markdown",
   "id": "49a022ef-49b3-4ff4-a39c-9863e09c25de",
   "metadata": {},
   "source": [
    "***\n",
    "Notebook by Sven Jacobs | <a href=\"mailto:s.jacobs@uni-bonn.de\">s.jacobs@uni-bonn.de</a> | <i class=\"fa fa-github\"></i> [svjaco](https://github.com/svjaco)\n",
    "***"
   ]
  }
 ],
 "metadata": {
  "kernelspec": {
   "display_name": "R [conda env:ose_project_sven_jacobs] *",
   "language": "R",
   "name": "conda-env-ose_project_sven_jacobs-r"
  },
  "language_info": {
   "codemirror_mode": "r",
   "file_extension": ".r",
   "mimetype": "text/x-r-source",
   "name": "R",
   "pygments_lexer": "r",
   "version": "4.1.0"
  },
  "varInspector": {
   "cols": {
    "lenName": 16,
    "lenType": 16,
    "lenVar": 40
   },
   "kernels_config": {
    "python": {
     "delete_cmd_postfix": "",
     "delete_cmd_prefix": "del ",
     "library": "var_list.py",
     "varRefreshCmd": "print(var_dic_list())"
    },
    "r": {
     "delete_cmd_postfix": ") ",
     "delete_cmd_prefix": "rm(",
     "library": "var_list.r",
     "varRefreshCmd": "cat(var_dic_list()) "
    }
   },
   "position": {
    "height": "333px",
    "left": "163px",
    "right": "20px",
    "top": "619px",
    "width": "759px"
   },
   "types_to_exclude": [
    "module",
    "function",
    "builtin_function_or_method",
    "instance",
    "_Feature"
   ],
   "window_display": false
  }
 },
 "nbformat": 4,
 "nbformat_minor": 5
}
